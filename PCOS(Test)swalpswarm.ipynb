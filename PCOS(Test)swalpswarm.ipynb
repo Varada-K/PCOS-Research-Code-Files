{
 "cells": [
  {
   "cell_type": "code",
   "execution_count": 1,
   "metadata": {},
   "outputs": [],
   "source": [
    "import numpy as np\n",
    "import pandas as pd\n",
    "from sklearn.neighbors import KNeighborsClassifier\n",
    "from sklearn.model_selection import train_test_split\n",
    "#import libraries\n",
    "import numpy as np\n",
    "import pandas as pd\n",
    "import matplotlib.pyplot as plt\n",
    "import seaborn as sns                 \n",
    "from IPython.display import display   # A notebook function to display more complex data (like tables)\n",
    "import scipy.stats as stats           # Scipy again\n",
    "import warnings\n",
    "warnings.filterwarnings('ignore')\n",
    "from FS.ssa import jfs   # change this to switch algorithm \n",
    "import matplotlib.pyplot as plt"
   ]
  },
  {
   "cell_type": "code",
   "execution_count": 2,
   "metadata": {},
   "outputs": [],
   "source": [
    "df = pd.read_csv(r\"C:\\Users\\Varada\\Desktop\\PCOS_featureselection.csv\")\n",
    "#missin values\n",
    "df = df.fillna(df.median())\n",
    "#feature engineering\n",
    "#converting categorical variables into numerical ones\n",
    "from sklearn.preprocessing import LabelEncoder\n",
    "labelencoder_Y=LabelEncoder()\n",
    "df.iloc[:,1]=labelencoder_Y.fit_transform(df.iloc[:,1].values)\n",
    "\n",
    "df=df.drop('Sl. No', axis=1)\n",
    "df=df.drop('Patient File No.', axis=1)\n",
    "\n",
    "\n",
    "data  = df.values\n",
    "feat  = np.asarray(data[:, 0:-1])   # feature vector\n",
    "label = np.asarray(data[:, -1])     # label vector"
   ]
  },
  {
   "cell_type": "markdown",
   "metadata": {},
   "source": [
    "# Feature Selection SwalpSwarm"
   ]
  },
  {
   "cell_type": "code",
   "execution_count": 3,
   "metadata": {},
   "outputs": [],
   "source": [
    "# split data into train & validation (70 -- 30)\n",
    "xtrain, xtest, ytrain, ytest = train_test_split(feat, label, test_size=0.3, stratify=label)\n",
    "fold = {'xt':xtrain, 'yt':ytrain, 'xv':xtest, 'yv':ytest}"
   ]
  },
  {
   "cell_type": "code",
   "execution_count": 4,
   "metadata": {},
   "outputs": [],
   "source": [
    "# parameter\n",
    "k    = 5     # k-value in KNN\n",
    "N    = 10    # number of particles\n",
    "T    = 100   # maximum number of iterations\n",
    "\n",
    "opts = {'k':k, 'fold':fold, 'N':N, 'T':T}"
   ]
  },
  {
   "cell_type": "code",
   "execution_count": 5,
   "metadata": {},
   "outputs": [
    {
     "name": "stdout",
     "output_type": "stream",
     "text": [
      "Iteration: 1\n",
      "Best (SSA): 0.23591949723178213\n",
      "Iteration: 2\n",
      "Best (SSA): 0.23591949723178213\n",
      "Iteration: 3\n",
      "Best (SSA): 0.23591949723178213\n",
      "Iteration: 4\n",
      "Best (SSA): 0.23591949723178213\n",
      "Iteration: 5\n",
      "Best (SSA): 0.23591949723178213\n",
      "Iteration: 6\n",
      "Best (SSA): 0.23591949723178213\n",
      "Iteration: 7\n",
      "Best (SSA): 0.23591949723178213\n",
      "Iteration: 8\n",
      "Best (SSA): 0.23591949723178213\n",
      "Iteration: 9\n",
      "Best (SSA): 0.23591949723178213\n",
      "Iteration: 10\n",
      "Best (SSA): 0.23591949723178213\n",
      "Iteration: 11\n",
      "Best (SSA): 0.23591949723178213\n",
      "Iteration: 12\n",
      "Best (SSA): 0.20069729163549302\n",
      "Iteration: 13\n",
      "Best (SSA): 0.18125692054466555\n",
      "Iteration: 14\n",
      "Best (SSA): 0.18125692054466555\n",
      "Iteration: 15\n",
      "Best (SSA): 0.15720634445608261\n",
      "Iteration: 16\n",
      "Best (SSA): 0.15720634445608261\n",
      "Iteration: 17\n",
      "Best (SSA): 0.15720634445608261\n",
      "Iteration: 18\n",
      "Best (SSA): 0.15720634445608261\n",
      "Iteration: 19\n",
      "Best (SSA): 0.15720634445608261\n",
      "Iteration: 20\n",
      "Best (SSA): 0.15720634445608261\n",
      "Iteration: 21\n",
      "Best (SSA): 0.15720634445608261\n",
      "Iteration: 22\n",
      "Best (SSA): 0.15720634445608261\n",
      "Iteration: 23\n",
      "Best (SSA): 0.15574292982193627\n",
      "Iteration: 24\n",
      "Best (SSA): 0.15574292982193627\n",
      "Iteration: 25\n",
      "Best (SSA): 0.15574292982193627\n",
      "Iteration: 26\n",
      "Best (SSA): 0.15574292982193627\n",
      "Iteration: 27\n",
      "Best (SSA): 0.15574292982193627\n",
      "Iteration: 28\n",
      "Best (SSA): 0.15574292982193627\n",
      "Iteration: 29\n",
      "Best (SSA): 0.15574292982193627\n",
      "Iteration: 30\n",
      "Best (SSA): 0.15574292982193627\n",
      "Iteration: 31\n",
      "Best (SSA): 0.15574292982193627\n",
      "Iteration: 32\n",
      "Best (SSA): 0.15574292982193627\n",
      "Iteration: 33\n",
      "Best (SSA): 0.15574292982193627\n",
      "Iteration: 34\n",
      "Best (SSA): 0.15574292982193627\n",
      "Iteration: 35\n",
      "Best (SSA): 0.15574292982193627\n",
      "Iteration: 36\n",
      "Best (SSA): 0.15574292982193627\n",
      "Iteration: 37\n",
      "Best (SSA): 0.15574292982193627\n",
      "Iteration: 38\n",
      "Best (SSA): 0.15574292982193627\n",
      "Iteration: 39\n",
      "Best (SSA): 0.15574292982193627\n",
      "Iteration: 40\n",
      "Best (SSA): 0.15549902738291188\n",
      "Iteration: 41\n",
      "Best (SSA): 0.15549902738291188\n",
      "Iteration: 42\n",
      "Best (SSA): 0.15549902738291188\n",
      "Iteration: 43\n",
      "Best (SSA): 0.15549902738291188\n",
      "Iteration: 44\n",
      "Best (SSA): 0.15549902738291188\n",
      "Iteration: 45\n",
      "Best (SSA): 0.15549902738291188\n",
      "Iteration: 46\n",
      "Best (SSA): 0.15549902738291188\n",
      "Iteration: 47\n",
      "Best (SSA): 0.15549902738291188\n",
      "Iteration: 48\n",
      "Best (SSA): 0.15549902738291188\n",
      "Iteration: 49\n",
      "Best (SSA): 0.15549902738291188\n",
      "Iteration: 50\n",
      "Best (SSA): 0.15549902738291188\n",
      "Iteration: 51\n",
      "Best (SSA): 0.15549902738291188\n",
      "Iteration: 52\n",
      "Best (SSA): 0.15549902738291188\n",
      "Iteration: 53\n",
      "Best (SSA): 0.15549902738291188\n",
      "Iteration: 54\n",
      "Best (SSA): 0.15549902738291188\n",
      "Iteration: 55\n",
      "Best (SSA): 0.15549902738291188\n",
      "Iteration: 56\n",
      "Best (SSA): 0.15549902738291188\n",
      "Iteration: 57\n",
      "Best (SSA): 0.15549902738291188\n",
      "Iteration: 58\n",
      "Best (SSA): 0.15549902738291188\n",
      "Iteration: 59\n",
      "Best (SSA): 0.15549902738291188\n",
      "Iteration: 60\n",
      "Best (SSA): 0.15549902738291188\n",
      "Iteration: 61\n",
      "Best (SSA): 0.15549902738291188\n",
      "Iteration: 62\n",
      "Best (SSA): 0.15549902738291188\n",
      "Iteration: 63\n",
      "Best (SSA): 0.15549902738291188\n",
      "Iteration: 64\n",
      "Best (SSA): 0.15549902738291188\n",
      "Iteration: 65\n",
      "Best (SSA): 0.15549902738291188\n",
      "Iteration: 66\n",
      "Best (SSA): 0.15549902738291188\n",
      "Iteration: 67\n",
      "Best (SSA): 0.15549902738291188\n",
      "Iteration: 68\n",
      "Best (SSA): 0.15549902738291188\n",
      "Iteration: 69\n",
      "Best (SSA): 0.15549902738291188\n",
      "Iteration: 70\n",
      "Best (SSA): 0.15549902738291188\n",
      "Iteration: 71\n",
      "Best (SSA): 0.15549902738291188\n",
      "Iteration: 72\n",
      "Best (SSA): 0.15549902738291188\n",
      "Iteration: 73\n",
      "Best (SSA): 0.15549902738291188\n",
      "Iteration: 74\n",
      "Best (SSA): 0.15549902738291188\n",
      "Iteration: 75\n",
      "Best (SSA): 0.15549902738291188\n",
      "Iteration: 76\n",
      "Best (SSA): 0.15549902738291188\n",
      "Iteration: 77\n",
      "Best (SSA): 0.15549902738291188\n",
      "Iteration: 78\n",
      "Best (SSA): 0.15549902738291188\n",
      "Iteration: 79\n",
      "Best (SSA): 0.15549902738291188\n",
      "Iteration: 80\n",
      "Best (SSA): 0.15549902738291188\n",
      "Iteration: 81\n",
      "Best (SSA): 0.15549902738291188\n",
      "Iteration: 82\n",
      "Best (SSA): 0.15549902738291188\n",
      "Iteration: 83\n",
      "Best (SSA): 0.15549902738291188\n",
      "Iteration: 84\n",
      "Best (SSA): 0.15549902738291188\n",
      "Iteration: 85\n",
      "Best (SSA): 0.15549902738291188\n",
      "Iteration: 86\n",
      "Best (SSA): 0.15549902738291188\n",
      "Iteration: 87\n",
      "Best (SSA): 0.15549902738291188\n",
      "Iteration: 88\n",
      "Best (SSA): 0.15549902738291188\n",
      "Iteration: 89\n",
      "Best (SSA): 0.15549902738291188\n",
      "Iteration: 90\n",
      "Best (SSA): 0.15549902738291188\n",
      "Iteration: 91\n",
      "Best (SSA): 0.15549902738291188\n",
      "Iteration: 92\n",
      "Best (SSA): 0.15549902738291188\n",
      "Iteration: 93\n",
      "Best (SSA): 0.15549902738291188\n",
      "Iteration: 94\n",
      "Best (SSA): 0.15549902738291188\n",
      "Iteration: 95\n",
      "Best (SSA): 0.15549902738291188\n",
      "Iteration: 96\n",
      "Best (SSA): 0.15549902738291188\n",
      "Iteration: 97\n",
      "Best (SSA): 0.15549902738291188\n",
      "Iteration: 98\n",
      "Best (SSA): 0.15549902738291188\n",
      "Iteration: 99\n",
      "Best (SSA): 0.15549902738291188\n",
      "Iteration: 100\n",
      "Best (SSA): 0.15549902738291188\n"
     ]
    }
   ],
   "source": [
    "# perform feature selection\n",
    "fmdl = jfs(feat, label, opts)\n",
    "sf   = fmdl['sf']"
   ]
  },
  {
   "cell_type": "code",
   "execution_count": 6,
   "metadata": {},
   "outputs": [
    {
     "name": "stdout",
     "output_type": "stream",
     "text": [
      "Feature Size: 15\n"
     ]
    }
   ],
   "source": [
    "# number of selected features\n",
    "num_feat = fmdl['nf']\n",
    "print(\"Feature Size:\", num_feat)"
   ]
  },
  {
   "cell_type": "code",
   "execution_count": 7,
   "metadata": {},
   "outputs": [
    {
     "data": {
      "text/plain": [
       "array([ 1, 11, 12, 17, 18, 21, 22, 25, 26, 28, 34, 36, 37, 39, 40])"
      ]
     },
     "execution_count": 7,
     "metadata": {},
     "output_type": "execute_result"
    }
   ],
   "source": [
    "sf  "
   ]
  },
  {
   "cell_type": "code",
   "execution_count": 8,
   "metadata": {
    "scrolled": true
   },
   "outputs": [
    {
     "name": "stdout",
     "output_type": "stream",
     "text": [
      "<class 'pandas.core.frame.DataFrame'>\n",
      "RangeIndex: 541 entries, 0 to 540\n",
      "Data columns (total 42 columns):\n",
      " #   Column                  Non-Null Count  Dtype  \n",
      "---  ------                  --------------  -----  \n",
      " 0    Age (yrs)              541 non-null    int64  \n",
      " 1   Weight (Kg)             541 non-null    float64\n",
      " 2   Height(Cm)              541 non-null    float64\n",
      " 3   BMI                     541 non-null    float64\n",
      " 4   Blood Group             541 non-null    int64  \n",
      " 5   Pulse rate(bpm)         541 non-null    int64  \n",
      " 6   RR (breaths/min)        541 non-null    int64  \n",
      " 7   Hb(g/dl)                541 non-null    float64\n",
      " 8   Cycle(R/I)              541 non-null    int64  \n",
      " 9   Cycle length(days)      541 non-null    int64  \n",
      " 10  Marraige Status (Yrs)   541 non-null    float64\n",
      " 11  Pregnant(Y/N)           541 non-null    int64  \n",
      " 12  No. of abortions        541 non-null    int64  \n",
      " 13    I   beta-HCG(mIU/mL)  541 non-null    float64\n",
      " 14  II    beta-HCG(mIU/mL)  541 non-null    float64\n",
      " 15  FSH(mIU/mL)             541 non-null    float64\n",
      " 16  LH(mIU/mL)              541 non-null    float64\n",
      " 17  FSH/LH                  541 non-null    float64\n",
      " 18  Hip(inch)               541 non-null    int64  \n",
      " 19  Waist(inch)             541 non-null    int64  \n",
      " 20  Waist:Hip Ratio         541 non-null    float64\n",
      " 21  TSH (mIU/L)             541 non-null    float64\n",
      " 22  AMH(ng/mL)              541 non-null    float64\n",
      " 23  PRL(ng/mL)              541 non-null    float64\n",
      " 24  Vit D3 (ng/mL)          541 non-null    float64\n",
      " 25  PRG(ng/mL)              541 non-null    float64\n",
      " 26  RBS(mg/dl)              541 non-null    float64\n",
      " 27  Weight gain(Y/N)        541 non-null    int64  \n",
      " 28  hair growth(Y/N)        541 non-null    int64  \n",
      " 29  Skin darkening (Y/N)    541 non-null    int64  \n",
      " 30  Hair loss(Y/N)          541 non-null    int64  \n",
      " 31  Pimples(Y/N)            541 non-null    int64  \n",
      " 32  Fast food (Y/N)         541 non-null    float64\n",
      " 33  Reg.Exercise(Y/N)       541 non-null    int64  \n",
      " 34  BP _Systolic (mmHg)     541 non-null    int64  \n",
      " 35  BP _Diastolic (mmHg)    541 non-null    int64  \n",
      " 36  Follicle No. (L)        541 non-null    int64  \n",
      " 37  Follicle No. (R)        541 non-null    int64  \n",
      " 38  Avg. F size (L) (mm)    541 non-null    float64\n",
      " 39  Avg. F size (R) (mm)    541 non-null    float64\n",
      " 40  Endometrium (mm)        541 non-null    float64\n",
      " 41  PCOS (Y/N)              541 non-null    int64  \n",
      "dtypes: float64(21), int64(21)\n",
      "memory usage: 177.6 KB\n"
     ]
    }
   ],
   "source": [
    "df.info()"
   ]
  },
  {
   "cell_type": "code",
   "execution_count": 9,
   "metadata": {},
   "outputs": [],
   "source": [
    "conserve=df[[' Age (yrs)','Weight (Kg)','Height(Cm) ','Pulse rate(bpm) ','RR (breaths/min)','Cycle(R/I)','Cycle length(days)','Pregnant(Y/N)','FSH(mIU/mL)','FSH/LH','Waist(inch)','Waist:Hip Ratio','PRG(ng/mL)','Weight gain(Y/N)','Hair loss(Y/N)','Pimples(Y/N)','Follicle No. (L)','Follicle No. (R)','Avg. F size (R) (mm)','PCOS (Y/N)']]\n",
    "df=conserve\n"
   ]
  },
  {
   "cell_type": "markdown",
   "metadata": {},
   "source": [
    "# the real features are written in the paper"
   ]
  },
  {
   "cell_type": "code",
   "execution_count": 10,
   "metadata": {},
   "outputs": [
    {
     "name": "stdout",
     "output_type": "stream",
     "text": [
      "<class 'pandas.core.frame.DataFrame'>\n",
      "RangeIndex: 541 entries, 0 to 540\n",
      "Data columns (total 20 columns):\n",
      " #   Column                Non-Null Count  Dtype  \n",
      "---  ------                --------------  -----  \n",
      " 0    Age (yrs)            541 non-null    int64  \n",
      " 1   Weight (Kg)           541 non-null    float64\n",
      " 2   Height(Cm)            541 non-null    float64\n",
      " 3   Pulse rate(bpm)       541 non-null    int64  \n",
      " 4   RR (breaths/min)      541 non-null    int64  \n",
      " 5   Cycle(R/I)            541 non-null    int64  \n",
      " 6   Cycle length(days)    541 non-null    int64  \n",
      " 7   Pregnant(Y/N)         541 non-null    int64  \n",
      " 8   FSH(mIU/mL)           541 non-null    float64\n",
      " 9   FSH/LH                541 non-null    float64\n",
      " 10  Waist(inch)           541 non-null    int64  \n",
      " 11  Waist:Hip Ratio       541 non-null    float64\n",
      " 12  PRG(ng/mL)            541 non-null    float64\n",
      " 13  Weight gain(Y/N)      541 non-null    int64  \n",
      " 14  Hair loss(Y/N)        541 non-null    int64  \n",
      " 15  Pimples(Y/N)          541 non-null    int64  \n",
      " 16  Follicle No. (L)      541 non-null    int64  \n",
      " 17  Follicle No. (R)      541 non-null    int64  \n",
      " 18  Avg. F size (R) (mm)  541 non-null    float64\n",
      " 19  PCOS (Y/N)            541 non-null    int64  \n",
      "dtypes: float64(7), int64(13)\n",
      "memory usage: 84.7 KB\n"
     ]
    }
   ],
   "source": [
    "df.info()"
   ]
  },
  {
   "cell_type": "markdown",
   "metadata": {},
   "source": [
    "# Logistic Regression"
   ]
  },
  {
   "cell_type": "code",
   "execution_count": 11,
   "metadata": {},
   "outputs": [
    {
     "name": "stdout",
     "output_type": "stream",
     "text": [
      "Fitting 3 folds for each of 14 candidates, totalling 42 fits\n"
     ]
    },
    {
     "data": {
      "text/plain": [
       "{'C': 10, 'penalty': 'l2'}"
      ]
     },
     "execution_count": 11,
     "metadata": {},
     "output_type": "execute_result"
    }
   ],
   "source": [
    "from imblearn.over_sampling import BorderlineSMOTE\n",
    "from sklearn.preprocessing import StandardScaler\n",
    "from sklearn.model_selection import train_test_split, GridSearchCV, RandomizedSearchCV\n",
    "from sklearn.linear_model import LinearRegression,LogisticRegression\n",
    "\n",
    "df = df.astype('float64')\n",
    "\n",
    "x = df.drop('PCOS (Y/N)', axis=1)\n",
    "y = df['PCOS (Y/N)']\n",
    "\n",
    "oversample = BorderlineSMOTE()\n",
    "#oversample=SMOTETomek(tomek=TomekLinks(sampling_strategy='majority'))\n",
    "x, y = oversample.fit_resample(x, y)\n",
    "\n",
    "SS = StandardScaler()\n",
    "df_scaled = pd.DataFrame(SS.fit_transform(x), columns = x.columns) # as scaling mandotory for KNN model \n",
    "\n",
    "x_train,x_test,y_train,y_test = train_test_split(df_scaled,y, test_size = 0.3, random_state = 1)\n",
    "#x_train1,x_test1,y_train,y_test = train_test_split(,y, test_size = 0.3, random_state = 1)\n",
    "\n",
    "\n",
    "# Create the parameter grid based on the results of random search \n",
    "param_grid = {\n",
    "    'penalty': ['l1','l2'],\n",
    "    'C': [0.001,0.01,0.1,1,10,100,1000]\n",
    "}\n",
    "\n",
    "# Create a based model\n",
    "lr = LogisticRegression()\n",
    "# Instantiate the grid search model\n",
    "lrClassifier = GridSearchCV(estimator = lr, param_grid = param_grid, \n",
    "                          cv = 3, n_jobs = -1, verbose = 2)\n",
    "\n",
    "lrClassifier.fit(x_train, y_train)\n",
    "lrClassifier.best_params_\n"
   ]
  },
  {
   "cell_type": "code",
   "execution_count": 12,
   "metadata": {},
   "outputs": [
    {
     "name": "stdout",
     "output_type": "stream",
     "text": [
      "[[99 21]\n",
      " [ 9 90]]\n",
      "              precision    recall  f1-score   support\n",
      "\n",
      "         0.0       0.92      0.82      0.87       120\n",
      "         1.0       0.81      0.91      0.86        99\n",
      "\n",
      "    accuracy                           0.86       219\n",
      "   macro avg       0.86      0.87      0.86       219\n",
      "weighted avg       0.87      0.86      0.86       219\n",
      "\n",
      "\n",
      "\n",
      "accuracy 0.86\n",
      "precision 0.81\n",
      "recall 0.91\n",
      "AUC: 0.95\n",
      "Precision-Recall: 0.94\n"
     ]
    },
    {
     "data": {
      "image/png": "[encoded data removed]",
      "text/plain": [
       "<Figure size 432x288 with 1 Axes>"
      ]
     },
     "metadata": {
      "needs_background": "light"
     },
     "output_type": "display_data"
    },
    {
     "data": {
      "image/png": "[encoded data removed]",
      "text/plain": [
       "<Figure size 432x288 with 1 Axes>"
      ]
     },
     "metadata": {
      "needs_background": "light"
     },
     "output_type": "display_data"
    },
    {
     "data": {
      "image/png": "[encoded data removed]",
      "text/plain": [
       "<Figure size 720x432 with 2 Axes>"
      ]
     },
     "metadata": {
      "needs_background": "light"
     },
     "output_type": "display_data"
    }
   ],
   "source": [
    "from sklearn.metrics import roc_auc_score, roc_curve, confusion_matrix, precision_score, recall_score\n",
    "from sklearn.metrics import classification_report, average_precision_score, accuracy_score, f1_score\n",
    "\n",
    "y_pred = lrClassifier.predict(x_test)\n",
    "y_proba = lrClassifier.predict_proba(x_test)[:,1]\n",
    "\n",
    "print(confusion_matrix(y_test, y_pred))\n",
    "print(classification_report(y_test, y_pred))\n",
    "\n",
    "#summary \n",
    "print('\\n')\n",
    "accuracy = round(accuracy_score(y_test, y_pred),2)\n",
    "print(\"accuracy\",accuracy)\n",
    "precision = round(precision_score(y_test, y_pred),2)\n",
    "print(\"precision\",precision)\n",
    "recall = round(recall_score(y_test, y_pred),2)\n",
    "print(\"recall\",recall)\n",
    "precision_recall = round(average_precision_score(y_test, y_proba),2)\n",
    "auc = round(roc_auc_score(y_test, y_proba),2)\n",
    "print('AUC: {}'.format(round(roc_auc_score(y_test, y_proba),2)))\n",
    "print('Precision-Recall: {}'.format(round(average_precision_score(y_test, y_proba),2)))\n",
    "\n",
    "fpr, tpr, _ = roc_curve(y_test,  y_proba)\n",
    "auc = round(roc_auc_score(y_test, y_proba),2)\n",
    "\n",
    "\n",
    "fig = plt.figure()\n",
    "\n",
    "# Set titles for the figure and the subplot respectively\n",
    "fig.suptitle('(a)', fontsize=14, fontweight='bold')\n",
    "ax = plt.axes()\n",
    "ax.set_facecolor('beige')\n",
    "\n",
    "plt.plot(fpr,tpr,color='xkcd:black',label='Logistic Regression  AUC: '+str(auc))\n",
    "plt.legend(loc=4)\n",
    "plt.grid(True)\n",
    "plt.plot([0, 1], [0, 1], color='blue', linestyle='-.')\n",
    "plt.gca().spines['top'].set_visible(False)\n",
    "plt.gca().spines['right'].set_visible(False)\n",
    "plt.savefig(\"AUC Logistic regression\", dpi=800,bbox_inches = 'tight')\n",
    "    \n",
    "plt.show()\n",
    "    \n",
    "\n",
    "\n",
    "\n",
    "#Precsiion Recall Curve\n",
    "from sklearn.metrics import plot_precision_recall_curve\n",
    "plot_precision_recall_curve(lrClassifier, x_test, y_test,color='xkcd:black', name = '')\n",
    "\n",
    "\n",
    "\n",
    "plt.grid(True)\n",
    "plt.plot([0, 1], [0, 1], color='blue', linestyle='-.')\n",
    "plt.gca().spines['top'].set_visible(False)\n",
    "plt.gca().spines['right'].set_visible(False)\n",
    "plt.legend(loc=4)\n",
    "plt.grid(True)\n",
    "\n",
    "plt.savefig(\"PR curve logistic regression\", dpi=800,bbox_inches = 'tight')\n",
    "\n",
    "\n",
    "#Confusion Matrix\n",
    " #print confusion matrix\n",
    "cm=confusion_matrix(y_test, y_pred)  \n",
    "plt.figure(figsize=(10,6))\n",
    "sns.heatmap(cm,annot=True,fmt=\"d\")\n",
    "sns.heatmap\n",
    "plt.xlabel('Actual values')\n",
    "plt.ylabel('Predicted values')\n",
    "plt.savefig(\"Confusion Matrix Logistic regression\", dpi=800,bbox_inches = 'tight')\n",
    "    "
   ]
  },
  {
   "cell_type": "markdown",
   "metadata": {},
   "source": [
    "# Decision Tree"
   ]
  },
  {
   "cell_type": "code",
   "execution_count": 13,
   "metadata": {},
   "outputs": [
    {
     "name": "stdout",
     "output_type": "stream",
     "text": [
      "Fitting 3 folds for each of 21600 candidates, totalling 64800 fits\n",
      "[[102  18]\n",
      " [ 16  83]]\n",
      "              precision    recall  f1-score   support\n",
      "\n",
      "         0.0       0.86      0.85      0.86       120\n",
      "         1.0       0.82      0.84      0.83        99\n",
      "\n",
      "    accuracy                           0.84       219\n",
      "   macro avg       0.84      0.84      0.84       219\n",
      "weighted avg       0.85      0.84      0.84       219\n",
      "\n",
      "\n",
      "\n",
      "accuracy 0.84\n",
      "precision 0.82\n",
      "recall 0.84\n",
      "AUC: 0.91\n",
      "Precision-Recall: 0.89\n"
     ]
    },
    {
     "data": {
      "image/png": "[encoded data removed]",
      "text/plain": [
       "<Figure size 432x288 with 1 Axes>"
      ]
     },
     "metadata": {
      "needs_background": "light"
     },
     "output_type": "display_data"
    },
    {
     "data": {
      "image/png": "[encoded data removed]",
      "text/plain": [
       "<Figure size 432x288 with 1 Axes>"
      ]
     },
     "metadata": {
      "needs_background": "light"
     },
     "output_type": "display_data"
    },
    {
     "data": {
      "image/png": "[encoded data removed]",
      "text/plain": [
       "<Figure size 720x432 with 2 Axes>"
      ]
     },
     "metadata": {
      "needs_background": "light"
     },
     "output_type": "display_data"
    }
   ],
   "source": [
    "from imblearn.over_sampling import BorderlineSMOTE\n",
    "from sklearn.tree import DecisionTreeClassifier, DecisionTreeRegressor \n",
    "df = df.astype('float64')\n",
    "\n",
    "x = df.drop('PCOS (Y/N)', axis=1)\n",
    "y = df['PCOS (Y/N)']\n",
    "\n",
    "\n",
    "oversample = BorderlineSMOTE()\n",
    "x, y = oversample.fit_resample(x, y)\n",
    "\n",
    "SS = StandardScaler()\n",
    "df_scaled = pd.DataFrame(SS.fit_transform(x), columns = x.columns) # as scaling mandotory for KNN model \n",
    "\n",
    "x_train,x_test,y_train,y_test = train_test_split(df_scaled,y, test_size = 0.3, random_state = 1)\n",
    "#x_train1,x_test1,y_train,y_test = train_test_split(,y, test_size = 0.3, random_state = 1)\n",
    "\n",
    "\n",
    "\n",
    "#parameters\n",
    "param_grid = {\n",
    "    'criterion' : ['gini', 'entropy'],\n",
    "    'max_depth':[4,5,6,7,8,9,10,11,12,15,20,30,40,50,70,90,120,150],\n",
    "    'min_samples_split' : range(10,500,20),\n",
    "    'splitter' : ['best', 'random'],\n",
    "    'min_samples_leaf': [1,5,8,11],\n",
    "    'max_features': ['log2', 'sqrt','auto']\n",
    "}\n",
    "\n",
    "# Create a based model\n",
    "dt = DecisionTreeClassifier()\n",
    "# Instantiate the grid search model\n",
    "dtClassifier = GridSearchCV(estimator = dt, param_grid = param_grid, \n",
    "                          cv = 3, n_jobs = -1, verbose = 2)\n",
    "\n",
    "dtClassifier.fit(x_train, y_train)\n",
    "dtClassifier.best_params_\n",
    "\n",
    "y_pred = dtClassifier.predict(x_test)\n",
    "y_proba = dtClassifier.predict_proba(x_test)[:,1]\n",
    "\n",
    "print(confusion_matrix(y_test, y_pred))\n",
    "print(classification_report(y_test, y_pred))\n",
    "\n",
    " \n",
    "print('\\n')\n",
    "accuracy = round(accuracy_score(y_test, y_pred),2)\n",
    "print(\"accuracy\",accuracy)\n",
    "precision = round(precision_score(y_test, y_pred),2)\n",
    "print(\"precision\",precision)\n",
    "recall = round(recall_score(y_test, y_pred),2)\n",
    "print(\"recall\",recall)\n",
    "precision_recall = round(average_precision_score(y_test, y_proba),2)\n",
    "auc = round(roc_auc_score(y_test, y_proba),2)\n",
    "print('AUC: {}'.format(round(roc_auc_score(y_test, y_proba),2)))\n",
    "print('Precision-Recall: {}'.format(round(average_precision_score(y_test, y_proba),2)))\n",
    "\n",
    "fpr, tpr, _ = roc_curve(y_test,  y_proba)\n",
    "auc = round(roc_auc_score(y_test, y_proba),2)\n",
    "\n",
    "\n",
    "fig = plt.figure()\n",
    "\n",
    "# Set titles for the figure and the subplot respectively\n",
    "fig.suptitle('(b)', fontsize=14, fontweight='bold')\n",
    "ax = plt.axes()\n",
    "ax.set_facecolor('beige')\n",
    "\n",
    "plt.plot(fpr,tpr,color='xkcd:black',label='Decision tree  AUC: '+str(auc))\n",
    "plt.legend(loc=4)\n",
    "plt.grid(True)\n",
    "plt.plot([0, 1], [0, 1], color='blue', linestyle='-.')\n",
    "plt.gca().spines['top'].set_visible(False)\n",
    "plt.gca().spines['right'].set_visible(False)\n",
    "plt.savefig(\"AUC Decision Tree\", dpi=800,bbox_inches = 'tight')\n",
    "    \n",
    "plt.show()\n",
    "    \n",
    "\n",
    "\n",
    "\n",
    "#Precsiion Recall Curve\n",
    "from sklearn.metrics import plot_precision_recall_curve\n",
    "plot_precision_recall_curve(dtClassifier, x_test, y_test,color='xkcd:black', name = 'Decision Tree')\n",
    "\n",
    "\n",
    "\n",
    "plt.grid(True)\n",
    "plt.plot([0, 1], [0, 1], color='blue', linestyle='-.')\n",
    "plt.gca().spines['top'].set_visible(False)\n",
    "plt.gca().spines['right'].set_visible(False)\n",
    "plt.legend(loc=4)\n",
    "plt.grid(True)\n",
    "\n",
    "plt.savefig(\"PR curve Decision Tree\", dpi=800,bbox_inches = 'tight')\n",
    "\n",
    "\n",
    "#Confusion Matrix\n",
    " #print confusion matrix\n",
    "cm=confusion_matrix(y_test, y_pred)  \n",
    "plt.figure(figsize=(10,6))\n",
    "sns.heatmap(cm,annot=True,fmt=\"d\")\n",
    "sns.heatmap\n",
    "plt.xlabel('Actual values')\n",
    "plt.ylabel('Predicted values')\n",
    "plt.savefig(\"Confusion Matix Decision Tree\", dpi=800,bbox_inches = 'tight')\n",
    "    "
   ]
  },
  {
   "cell_type": "markdown",
   "metadata": {},
   "source": [
    "# Random Forest"
   ]
  },
  {
   "cell_type": "code",
   "execution_count": 14,
   "metadata": {},
   "outputs": [
    {
     "name": "stdout",
     "output_type": "stream",
     "text": [
      "Fitting 3 folds for each of 288 candidates, totalling 864 fits\n",
      "[[110  10]\n",
      " [  2  97]]\n",
      "              precision    recall  f1-score   support\n",
      "\n",
      "         0.0       0.98      0.92      0.95       120\n",
      "         1.0       0.91      0.98      0.94        99\n",
      "\n",
      "    accuracy                           0.95       219\n",
      "   macro avg       0.94      0.95      0.95       219\n",
      "weighted avg       0.95      0.95      0.95       219\n",
      "\n",
      "\n",
      "\n",
      "accuracy 0.95\n",
      "precision 0.91\n",
      "recall 0.98\n",
      "AUC: 0.99\n",
      "Precision-Recall: 0.99\n"
     ]
    },
    {
     "data": {
      "image/png": "[encoded data removed]",
      "text/plain": [
       "<Figure size 432x288 with 1 Axes>"
      ]
     },
     "metadata": {
      "needs_background": "light"
     },
     "output_type": "display_data"
    },
    {
     "data": {
      "image/png": "[encoded data removed]",
      "text/plain": [
       "<Figure size 432x288 with 1 Axes>"
      ]
     },
     "metadata": {
      "needs_background": "light"
     },
     "output_type": "display_data"
    },
    {
     "data": {
      "image/png": "[encoded data removed]",
      "text/plain": [
       "<Figure size 720x432 with 2 Axes>"
      ]
     },
     "metadata": {
      "needs_background": "light"
     },
     "output_type": "display_data"
    }
   ],
   "source": [
    "from imblearn.over_sampling import BorderlineSMOTE\n",
    "df = df.astype('float64')\n",
    "\n",
    "x = df.drop('PCOS (Y/N)', axis=1)\n",
    "y = df['PCOS (Y/N)']\n",
    "\n",
    "oversample = BorderlineSMOTE()\n",
    "x, y = oversample.fit_resample(x, y)\n",
    "\n",
    "SS = StandardScaler()\n",
    "df_scaled = pd.DataFrame(SS.fit_transform(x), columns = x.columns) # as scaling mandotory for KNN model \n",
    "\n",
    "x_train,x_test,y_train,y_test = train_test_split(df_scaled,y, test_size = 0.3, random_state = 1)\n",
    "#x_train1,x_test1,y_train,y_test = train_test_split(x,y, test_size = 0.3, random_state = 1)\n",
    "\n",
    "\n",
    "\n",
    "\n",
    "from sklearn.ensemble import RandomForestClassifier\n",
    "rf = RandomForestClassifier()\n",
    "\n",
    "\n",
    "param_grid = {\n",
    "    'bootstrap': [True],\n",
    "    'max_depth': [80, 90, 100, 110],\n",
    "    'max_features': [2, 3],\n",
    "    'min_samples_leaf': [3, 4, 5],\n",
    "    'min_samples_split': [8, 10, 12],\n",
    "    'n_estimators': [100, 200, 300, 1000]\n",
    "}\n",
    "\n",
    "rfclassifier = GridSearchCV(estimator = rf, param_grid = param_grid, \n",
    "                          cv = 3, n_jobs = -1, verbose = 2)\n",
    "rfclassifier.fit(x_train, y_train)\n",
    "rfclassifier.best_params_\n",
    "\n",
    "y_pred = rfclassifier.predict(x_test)\n",
    "y_proba = rfclassifier.predict_proba(x_test)[:,1]\n",
    "\n",
    "print(confusion_matrix(y_test, y_pred))\n",
    "print(classification_report(y_test, y_pred))\n",
    "\n",
    "# RandomForest summary \n",
    "print('\\n')\n",
    "accuracy = round(accuracy_score(y_test, y_pred),2)\n",
    "print(\"accuracy\",accuracy)\n",
    "precision = round(precision_score(y_test, y_pred),2)\n",
    "print(\"precision\",precision)\n",
    "recall = round(recall_score(y_test, y_pred),2)\n",
    "print(\"recall\",recall)\n",
    "precision_recall = round(average_precision_score(y_test, y_proba),2)\n",
    "auc = round(roc_auc_score(y_test, y_proba),2)\n",
    "print('AUC: {}'.format(round(roc_auc_score(y_test, y_proba),2)))\n",
    "print('Precision-Recall: {}'.format(round(average_precision_score(y_test, y_proba),2)))\n",
    "\n",
    "fpr, tpr, _ = roc_curve(y_test,  y_proba)\n",
    "auc = round(roc_auc_score(y_test, y_proba),2)\n",
    "\n",
    "\n",
    "fig = plt.figure()\n",
    "\n",
    "# Set titles for the figure and the subplot respectively\n",
    "fig.suptitle('(a)', fontsize=14, fontweight='bold')\n",
    "ax = plt.axes()\n",
    "ax.set_facecolor('beige')\n",
    "\n",
    "plt.plot(fpr,tpr,color='xkcd:black',label='Random forest  AUC: '+str(auc))\n",
    "plt.legend(loc=4)\n",
    "plt.grid(True)\n",
    "plt.plot([0, 1], [0, 1], color='blue', linestyle='-.')\n",
    "plt.gca().spines['top'].set_visible(False)\n",
    "plt.gca().spines['right'].set_visible(False)\n",
    "plt.savefig(\"AUC RandomForest\", dpi=800,bbox_inches = 'tight')\n",
    "    \n",
    "plt.show()\n",
    "    \n",
    "\n",
    "\n",
    "\n",
    "#Precsiion Recall Curve\n",
    "from sklearn.metrics import plot_precision_recall_curve\n",
    "plot_precision_recall_curve(rfclassifier, x_test, y_test,color='xkcd:black', name = 'Randomforest')\n",
    "\n",
    "\n",
    "\n",
    "plt.grid(True)\n",
    "plt.plot([0, 1], [0, 1], color='blue', linestyle='-.')\n",
    "plt.gca().spines['top'].set_visible(False)\n",
    "plt.gca().spines['right'].set_visible(False)\n",
    "plt.legend(loc=4)\n",
    "plt.grid(True)\n",
    "\n",
    "plt.savefig(\"PR curve random forest\", dpi=800,bbox_inches = 'tight')\n",
    "\n",
    "\n",
    "#Confusion Matrix\n",
    " #print confusion matrix\n",
    "cm=confusion_matrix(y_test, y_pred)  \n",
    "plt.figure(figsize=(10,6))\n",
    "sns.heatmap(cm,annot=True,fmt=\"d\")\n",
    "sns.heatmap\n",
    "plt.xlabel('Actual values')\n",
    "plt.ylabel('Predicted values')\n",
    "plt.savefig(\"Confusion Matix Random forest\", dpi=800,bbox_inches = 'tight')\n",
    "    \n",
    "\n"
   ]
  },
  {
   "cell_type": "markdown",
   "metadata": {},
   "source": [
    "# SVM Linear"
   ]
  },
  {
   "cell_type": "code",
   "execution_count": 15,
   "metadata": {},
   "outputs": [
    {
     "name": "stdout",
     "output_type": "stream",
     "text": [
      "[[101  19]\n",
      " [ 13  86]]\n",
      "              precision    recall  f1-score   support\n",
      "\n",
      "         0.0       0.89      0.84      0.86       120\n",
      "         1.0       0.82      0.87      0.84        99\n",
      "\n",
      "    accuracy                           0.85       219\n",
      "   macro avg       0.85      0.86      0.85       219\n",
      "weighted avg       0.86      0.85      0.85       219\n",
      "\n",
      "\n",
      "\n",
      "accuracy 0.85\n",
      "precision 0.82\n",
      "recall 0.87\n",
      "AUC: 0.92\n",
      "Precision-Recall: 0.93\n"
     ]
    },
    {
     "data": {
      "image/png": "[encoded data removed]",
      "text/plain": [
       "<Figure size 432x288 with 1 Axes>"
      ]
     },
     "metadata": {
      "needs_background": "light"
     },
     "output_type": "display_data"
    },
    {
     "data": {
      "image/png": "[encoded data removed]",
      "text/plain": [
       "<Figure size 432x288 with 1 Axes>"
      ]
     },
     "metadata": {
      "needs_background": "light"
     },
     "output_type": "display_data"
    },
    {
     "data": {
      "image/png": "[encoded data removed]",
      "text/plain": [
       "<Figure size 720x432 with 2 Axes>"
      ]
     },
     "metadata": {
      "needs_background": "light"
     },
     "output_type": "display_data"
    }
   ],
   "source": [
    "from sklearn import svm\n",
    "\n",
    "from imblearn.over_sampling import BorderlineSMOTE\n",
    "df = df.astype('float64')\n",
    "\n",
    "x = df.drop('PCOS (Y/N)', axis=1)\n",
    "y = df['PCOS (Y/N)']\n",
    "\n",
    "oversample = BorderlineSMOTE()\n",
    "x, y = oversample.fit_resample(x, y)\n",
    "\n",
    "SS = StandardScaler()\n",
    "df_scaled = pd.DataFrame(SS.fit_transform(x), columns = x.columns) # as scaling mandotory for KNN model \n",
    "\n",
    "x_train,x_test,y_train,y_test = train_test_split(df_scaled,y, test_size = 0.3, random_state = 1)\n",
    "#x_train1,x_test1,y_train,y_test = train_test_split(,y, test_size = 0.3, random_state = 1)\n",
    "\n",
    "\n",
    "# Create a based model\n",
    "clf = svm.SVC(kernel='linear',probability=True)\n",
    "\n",
    "clf.fit(x_train, y_train)\n",
    "\n",
    "\n",
    "\n",
    "y_pred = clf.predict(x_test)\n",
    "y_proba = clf.predict_proba(x_test)[:,1]\n",
    "\n",
    "print(confusion_matrix(y_test, y_pred))\n",
    "print(classification_report(y_test, y_pred))\n",
    "\n",
    "\n",
    "print('\\n')\n",
    "accuracy = round(accuracy_score(y_test, y_pred),2)\n",
    "print(\"accuracy\",accuracy)\n",
    "precision = round(precision_score(y_test, y_pred),2)\n",
    "print(\"precision\",precision)\n",
    "recall = round(recall_score(y_test, y_pred),2)\n",
    "print(\"recall\",recall)\n",
    "precision_recall = round(average_precision_score(y_test, y_proba),2)\n",
    "auc = round(roc_auc_score(y_test, y_proba),2)\n",
    "print('AUC: {}'.format(round(roc_auc_score(y_test, y_proba),2)))\n",
    "print('Precision-Recall: {}'.format(round(average_precision_score(y_test, y_proba),2)))\n",
    "\n",
    "fpr, tpr, _ = roc_curve(y_test,  y_proba)\n",
    "auc = round(roc_auc_score(y_test, y_proba),2)\n",
    "\n",
    "\n",
    "fig = plt.figure()\n",
    "\n",
    "# Set titles for the figure and the subplot respectively\n",
    "fig.suptitle('(d)', fontsize=14, fontweight='bold')\n",
    "ax = plt.axes()\n",
    "ax.set_facecolor('beige')\n",
    "\n",
    "plt.plot(fpr,tpr,color='xkcd:black',label='SVM  AUC: '+str(auc))\n",
    "plt.legend(loc=4)\n",
    "plt.grid(True)\n",
    "plt.plot([0, 1], [0, 1], color='blue', linestyle='-.')\n",
    "plt.gca().spines['top'].set_visible(False)\n",
    "plt.gca().spines['right'].set_visible(False)\n",
    "plt.savefig(\"AUC SVM\", dpi=800,bbox_inches = 'tight')\n",
    "    \n",
    "plt.show()\n",
    "    \n",
    "\n",
    "\n",
    "\n",
    "#Precsiion Recall Curve\n",
    "from sklearn.metrics import plot_precision_recall_curve\n",
    "plot_precision_recall_curve(clf, x_test, y_test,color='xkcd:black', name = 'SVM')\n",
    "\n",
    "\n",
    "\n",
    "plt.grid(True)\n",
    "plt.plot([0, 1], [0, 1], color='blue', linestyle='-.')\n",
    "plt.gca().spines['top'].set_visible(False)\n",
    "plt.gca().spines['right'].set_visible(False)\n",
    "plt.legend(loc=4)\n",
    "plt.grid(True)\n",
    "\n",
    "plt.savefig(\"PR curve SVM\", dpi=800,bbox_inches = 'tight')\n",
    "\n",
    "\n",
    "#Confusion Matrix\n",
    " #print confusion matrix\n",
    "cm=confusion_matrix(y_test, y_pred)  \n",
    "plt.figure(figsize=(10,6))\n",
    "sns.heatmap(cm,annot=True,fmt=\"d\")\n",
    "sns.heatmap\n",
    "plt.xlabel('Actual values')\n",
    "plt.ylabel('Predicted values')\n",
    "plt.savefig(\"Confusion Matix SVM\", dpi=800,bbox_inches = 'tight')\n",
    "    \n",
    "\n"
   ]
  },
  {
   "cell_type": "markdown",
   "metadata": {},
   "source": [
    "# SVM Polynomial"
   ]
  },
  {
   "cell_type": "code",
   "execution_count": 16,
   "metadata": {},
   "outputs": [
    {
     "name": "stdout",
     "output_type": "stream",
     "text": [
      "[[102  18]\n",
      " [  6  93]]\n",
      "              precision    recall  f1-score   support\n",
      "\n",
      "         0.0       0.94      0.85      0.89       120\n",
      "         1.0       0.84      0.94      0.89        99\n",
      "\n",
      "    accuracy                           0.89       219\n",
      "   macro avg       0.89      0.89      0.89       219\n",
      "weighted avg       0.90      0.89      0.89       219\n",
      "\n",
      "\n",
      "\n",
      "accuracy 0.89\n",
      "precision 0.84\n",
      "recall 0.94\n",
      "AUC: 0.96\n",
      "Precision-Recall: 0.93\n"
     ]
    },
    {
     "data": {
      "image/png": "[encoded data removed]",
      "text/plain": [
       "<Figure size 432x288 with 1 Axes>"
      ]
     },
     "metadata": {
      "needs_background": "light"
     },
     "output_type": "display_data"
    },
    {
     "data": {
      "image/png": "[encoded data removed]",
      "text/plain": [
       "<Figure size 432x288 with 1 Axes>"
      ]
     },
     "metadata": {
      "needs_background": "light"
     },
     "output_type": "display_data"
    },
    {
     "data": {
      "image/png": "[encoded data removed]",
      "text/plain": [
       "<Figure size 720x432 with 2 Axes>"
      ]
     },
     "metadata": {
      "needs_background": "light"
     },
     "output_type": "display_data"
    }
   ],
   "source": [
    "from sklearn import svm\n",
    "\n",
    "from imblearn.over_sampling import BorderlineSMOTE\n",
    "df = df.astype('float64')\n",
    "\n",
    "x = df.drop('PCOS (Y/N)', axis=1)\n",
    "y = df['PCOS (Y/N)']\n",
    "\n",
    "oversample = BorderlineSMOTE()\n",
    "x, y = oversample.fit_resample(x, y)\n",
    "\n",
    "SS = StandardScaler()\n",
    "df_scaled = pd.DataFrame(SS.fit_transform(x), columns = x.columns) # as scaling mandotory for KNN model \n",
    "\n",
    "x_train,x_test,y_train,y_test = train_test_split(df_scaled,y, test_size = 0.3, random_state = 1)\n",
    "#x_train1,x_test1,y_train,y_test = train_test_split(,y, test_size = 0.3, random_state = 1)\n",
    "\n",
    "\n",
    "# Create a based model\n",
    "svmclassifier = svm.SVC(kernel='poly',probability=True)\n",
    "\n",
    "svmclassifier.fit(x_train, y_train)\n",
    "\n",
    "\n",
    "\n",
    "y_pred = svmclassifier.predict(x_test)\n",
    "y_proba =svmclassifier.predict_proba(x_test)[:,1]\n",
    "\n",
    "print(confusion_matrix(y_test, y_pred))\n",
    "print(classification_report(y_test, y_pred))\n",
    "\n",
    "\n",
    "print('\\n')\n",
    "accuracy = round(accuracy_score(y_test, y_pred),2)\n",
    "print(\"accuracy\",accuracy)\n",
    "precision = round(precision_score(y_test, y_pred),2)\n",
    "print(\"precision\",precision)\n",
    "recall = round(recall_score(y_test, y_pred),2)\n",
    "print(\"recall\",recall)\n",
    "precision_recall = round(average_precision_score(y_test, y_proba),2)\n",
    "auc = round(roc_auc_score(y_test, y_proba),2)\n",
    "print('AUC: {}'.format(round(roc_auc_score(y_test, y_proba),2)))\n",
    "print('Precision-Recall: {}'.format(round(average_precision_score(y_test, y_proba),2)))\n",
    "\n",
    "fpr, tpr, _ = roc_curve(y_test,  y_proba)\n",
    "auc = round(roc_auc_score(y_test, y_proba),2)\n",
    "\n",
    "\n",
    "fig = plt.figure()\n",
    "\n",
    "# Set titles for the figure and the subplot respectively\n",
    "fig.suptitle('(d)', fontsize=14, fontweight='bold')\n",
    "ax = plt.axes()\n",
    "ax.set_facecolor('beige')\n",
    "\n",
    "plt.plot(fpr,tpr,color='xkcd:black',label='SVM  AUC: '+str(auc))\n",
    "plt.legend(loc=4)\n",
    "plt.grid(True)\n",
    "plt.plot([0, 1], [0, 1], color='blue', linestyle='-.')\n",
    "plt.gca().spines['top'].set_visible(False)\n",
    "plt.gca().spines['right'].set_visible(False)\n",
    "plt.savefig(\"AUC SVM-poly\", dpi=800,bbox_inches = 'tight')\n",
    "    \n",
    "plt.show()\n",
    "    \n",
    "\n",
    "\n",
    "\n",
    "#Precsiion Recall Curve\n",
    "from sklearn.metrics import plot_precision_recall_curve\n",
    "plot_precision_recall_curve(svmclassifier, x_test, y_test,color='xkcd:black', name = 'SVM')\n",
    "\n",
    "\n",
    "\n",
    "plt.grid(True)\n",
    "plt.plot([0, 1], [0, 1], color='blue', linestyle='-.')\n",
    "plt.gca().spines['top'].set_visible(False)\n",
    "plt.gca().spines['right'].set_visible(False)\n",
    "plt.legend(loc=4)\n",
    "plt.grid(True)\n",
    "\n",
    "plt.savefig(\"PR curve SVM\", dpi=800,bbox_inches = 'tight')\n",
    "\n",
    "\n",
    "#Confusion Matrix\n",
    " #print confusion matrix\n",
    "cm=confusion_matrix(y_test, y_pred)  \n",
    "plt.figure(figsize=(10,6))\n",
    "sns.heatmap(cm,annot=True,fmt=\"d\")\n",
    "sns.heatmap\n",
    "plt.xlabel('Actual values')\n",
    "plt.ylabel('Predicted values')\n",
    "plt.savefig(\"Confusion Matix SVM\", dpi=800,bbox_inches = 'tight')\n",
    "    \n",
    "\n"
   ]
  },
  {
   "cell_type": "markdown",
   "metadata": {},
   "source": [
    "# SVM Gaussian\n"
   ]
  },
  {
   "cell_type": "code",
   "execution_count": 17,
   "metadata": {},
   "outputs": [
    {
     "name": "stdout",
     "output_type": "stream",
     "text": [
      "[[107  13]\n",
      " [  3  96]]\n",
      "              precision    recall  f1-score   support\n",
      "\n",
      "         0.0       0.97      0.89      0.93       120\n",
      "         1.0       0.88      0.97      0.92        99\n",
      "\n",
      "    accuracy                           0.93       219\n",
      "   macro avg       0.93      0.93      0.93       219\n",
      "weighted avg       0.93      0.93      0.93       219\n",
      "\n",
      "\n",
      "\n",
      "accuracy 0.93\n",
      "precision 0.88\n",
      "recall 0.97\n",
      "AUC: 0.97\n",
      "Precision-Recall: 0.97\n"
     ]
    },
    {
     "data": {
      "image/png": "[encoded data removed]",
      "text/plain": [
       "<Figure size 432x288 with 1 Axes>"
      ]
     },
     "metadata": {
      "needs_background": "light"
     },
     "output_type": "display_data"
    },
    {
     "data": {
      "image/png": "[encoded data removed]",
      "text/plain": [
       "<Figure size 432x288 with 1 Axes>"
      ]
     },
     "metadata": {
      "needs_background": "light"
     },
     "output_type": "display_data"
    },
    {
     "data": {
      "image/png": "[encoded data removed]",
      "text/plain": [
       "<Figure size 720x432 with 2 Axes>"
      ]
     },
     "metadata": {
      "needs_background": "light"
     },
     "output_type": "display_data"
    }
   ],
   "source": [
    "# from sklearn import svm\n",
    "\n",
    "from imblearn.over_sampling import BorderlineSMOTE\n",
    "df = df.astype('float64')\n",
    "\n",
    "x = df.drop('PCOS (Y/N)', axis=1)\n",
    "y = df['PCOS (Y/N)']\n",
    "\n",
    "oversample = BorderlineSMOTE()\n",
    "x, y = oversample.fit_resample(x, y)\n",
    "\n",
    "SS = StandardScaler()\n",
    "df_scaled = pd.DataFrame(SS.fit_transform(x), columns = x.columns) # as scaling mandotory for KNN model \n",
    "\n",
    "x_train,x_test,y_train,y_test = train_test_split(df_scaled,y, test_size = 0.3, random_state = 1)\n",
    "#x_train1,x_test1,y_train,y_test = train_test_split(,y, test_size = 0.3, random_state = 1)\n",
    "\n",
    "\n",
    "# Create a based model\n",
    "svmclassifier1 = svm.SVC(kernel='rbf',probability=True)\n",
    "\n",
    "svmclassifier1.fit(x_train, y_train)\n",
    "\n",
    "\n",
    "\n",
    "y_pred = svmclassifier1.predict(x_test)\n",
    "y_proba =svmclassifier1.predict_proba(x_test)[:,1]\n",
    "\n",
    "print(confusion_matrix(y_test, y_pred))\n",
    "print(classification_report(y_test, y_pred))\n",
    "\n",
    "\n",
    "print('\\n')\n",
    "accuracy = round(accuracy_score(y_test, y_pred),2)\n",
    "print(\"accuracy\",accuracy)\n",
    "precision = round(precision_score(y_test, y_pred),2)\n",
    "print(\"precision\",precision)\n",
    "recall = round(recall_score(y_test, y_pred),2)\n",
    "print(\"recall\",recall)\n",
    "precision_recall = round(average_precision_score(y_test, y_proba),2)\n",
    "auc = round(roc_auc_score(y_test, y_proba),2)\n",
    "print('AUC: {}'.format(round(roc_auc_score(y_test, y_proba),2)))\n",
    "print('Precision-Recall: {}'.format(round(average_precision_score(y_test, y_proba),2)))\n",
    "\n",
    "fpr, tpr, _ = roc_curve(y_test,  y_proba)\n",
    "auc = round(roc_auc_score(y_test, y_proba),2)\n",
    "\n",
    "\n",
    "fig = plt.figure()\n",
    "\n",
    "# Set titles for the figure and the subplot respectively\n",
    "fig.suptitle('(d)', fontsize=14, fontweight='bold')\n",
    "ax = plt.axes()\n",
    "ax.set_facecolor('beige')\n",
    "\n",
    "plt.plot(fpr,tpr,color='xkcd:black',label='SVM  AUC: '+str(auc))\n",
    "plt.legend(loc=4)\n",
    "plt.grid(True)\n",
    "plt.plot([0, 1], [0, 1], color='blue', linestyle='-.')\n",
    "plt.gca().spines['top'].set_visible(False)\n",
    "plt.gca().spines['right'].set_visible(False)\n",
    "plt.savefig(\"AUC SVM-poly\", dpi=800,bbox_inches = 'tight')\n",
    "    \n",
    "plt.show()\n",
    "    \n",
    "\n",
    "\n",
    "\n",
    "#Precsiion Recall Curve\n",
    "from sklearn.metrics import plot_precision_recall_curve\n",
    "plot_precision_recall_curve(svmclassifier1, x_test, y_test,color='xkcd:black', name = 'SVM')\n",
    "\n",
    "\n",
    "\n",
    "plt.grid(True)\n",
    "plt.plot([0, 1], [0, 1], color='blue', linestyle='-.')\n",
    "plt.gca().spines['top'].set_visible(False)\n",
    "plt.gca().spines['right'].set_visible(False)\n",
    "plt.legend(loc=4)\n",
    "plt.grid(True)\n",
    "\n",
    "plt.savefig(\"PR curve SVM-poly\", dpi=800,bbox_inches = 'tight')\n",
    "\n",
    "\n",
    "#Confusion Matrix\n",
    " #print confusion matrix\n",
    "cm=confusion_matrix(y_test, y_pred)  \n",
    "plt.figure(figsize=(10,6))\n",
    "sns.heatmap(cm,annot=True,fmt=\"d\")\n",
    "sns.heatmap\n",
    "plt.xlabel('Actual values')\n",
    "plt.ylabel('Predicted values')\n",
    "plt.savefig(\"Confusion Matix SVM-poly\", dpi=800,bbox_inches = 'tight')\n",
    "    \n",
    "\n"
   ]
  },
  {
   "cell_type": "markdown",
   "metadata": {},
   "source": [
    "# SVM Sigmoid"
   ]
  },
  {
   "cell_type": "code",
   "execution_count": 18,
   "metadata": {},
   "outputs": [
    {
     "name": "stdout",
     "output_type": "stream",
     "text": [
      "[[103  17]\n",
      " [ 12  87]]\n",
      "              precision    recall  f1-score   support\n",
      "\n",
      "         0.0       0.90      0.86      0.88       120\n",
      "         1.0       0.84      0.88      0.86        99\n",
      "\n",
      "    accuracy                           0.87       219\n",
      "   macro avg       0.87      0.87      0.87       219\n",
      "weighted avg       0.87      0.87      0.87       219\n",
      "\n",
      "\n",
      "\n",
      "accuracy 0.87\n",
      "precision 0.84\n",
      "recall 0.88\n",
      "AUC: 0.91\n",
      "Precision-Recall: 0.91\n"
     ]
    },
    {
     "data": {
      "image/png": "[encoded data removed]",
      "text/plain": [
       "<Figure size 432x288 with 1 Axes>"
      ]
     },
     "metadata": {
      "needs_background": "light"
     },
     "output_type": "display_data"
    },
    {
     "data": {
      "image/png": "[encoded data removed]",
      "text/plain": [
       "<Figure size 432x288 with 1 Axes>"
      ]
     },
     "metadata": {
      "needs_background": "light"
     },
     "output_type": "display_data"
    },
    {
     "data": {
      "image/png": "[encoded data removed]",
      "text/plain": [
       "<Figure size 720x432 with 2 Axes>"
      ]
     },
     "metadata": {
      "needs_background": "light"
     },
     "output_type": "display_data"
    }
   ],
   "source": [
    "from sklearn import svm\n",
    "\n",
    "from imblearn.over_sampling import BorderlineSMOTE\n",
    "df = df.astype('float64')\n",
    "\n",
    "x = df.drop('PCOS (Y/N)', axis=1)\n",
    "y = df['PCOS (Y/N)']\n",
    "\n",
    "oversample = BorderlineSMOTE()\n",
    "x, y = oversample.fit_resample(x, y)\n",
    "\n",
    "SS = StandardScaler()\n",
    "df_scaled = pd.DataFrame(SS.fit_transform(x), columns = x.columns) # as scaling mandotory for KNN model \n",
    "\n",
    "x_train,x_test,y_train,y_test = train_test_split(df_scaled,y, test_size = 0.3, random_state = 1)\n",
    "#x_train1,x_test1,y_train,y_test = train_test_split(,y, test_size = 0.3, random_state = 1)\n",
    "\n",
    "\n",
    "# Create a based model\n",
    "svmclassifier2 = svm.SVC(kernel='sigmoid',probability=True)\n",
    "\n",
    "svmclassifier2.fit(x_train, y_train)\n",
    "\n",
    "\n",
    "\n",
    "y_pred = svmclassifier2.predict(x_test)\n",
    "y_proba =svmclassifier2.predict_proba(x_test)[:,1]\n",
    "\n",
    "print(confusion_matrix(y_test, y_pred))\n",
    "print(classification_report(y_test, y_pred))\n",
    "\n",
    "\n",
    "print('\\n')\n",
    "accuracy = round(accuracy_score(y_test, y_pred),2)\n",
    "print(\"accuracy\",accuracy)\n",
    "precision = round(precision_score(y_test, y_pred),2)\n",
    "print(\"precision\",precision)\n",
    "recall = round(recall_score(y_test, y_pred),2)\n",
    "print(\"recall\",recall)\n",
    "precision_recall = round(average_precision_score(y_test, y_proba),2)\n",
    "auc = round(roc_auc_score(y_test, y_proba),2)\n",
    "print('AUC: {}'.format(round(roc_auc_score(y_test, y_proba),2)))\n",
    "print('Precision-Recall: {}'.format(round(average_precision_score(y_test, y_proba),2)))\n",
    "\n",
    "fpr, tpr, _ = roc_curve(y_test,  y_proba)\n",
    "auc = round(roc_auc_score(y_test, y_proba),2)\n",
    "\n",
    "\n",
    "fig = plt.figure()\n",
    "\n",
    "# Set titles for the figure and the subplot respectively\n",
    "fig.suptitle('(d)', fontsize=14, fontweight='bold')\n",
    "ax = plt.axes()\n",
    "ax.set_facecolor('beige')\n",
    "\n",
    "plt.plot(fpr,tpr,color='xkcd:black',label='SVM  AUC: '+str(auc))\n",
    "plt.legend(loc=4)\n",
    "plt.grid(True)\n",
    "plt.plot([0, 1], [0, 1], color='blue', linestyle='-.')\n",
    "plt.gca().spines['top'].set_visible(False)\n",
    "plt.gca().spines['right'].set_visible(False)\n",
    "plt.savefig(\"AUC SVM-sigmoid\", dpi=800,bbox_inches = 'tight')\n",
    "    \n",
    "plt.show()\n",
    "    \n",
    "\n",
    "\n",
    "\n",
    "#Precsiion Recall Curve\n",
    "from sklearn.metrics import plot_precision_recall_curve\n",
    "plot_precision_recall_curve(svmclassifier2, x_test, y_test,color='xkcd:black', name = 'SVM')\n",
    "\n",
    "\n",
    "\n",
    "plt.grid(True)\n",
    "plt.plot([0, 1], [0, 1], color='blue', linestyle='-.')\n",
    "plt.gca().spines['top'].set_visible(False)\n",
    "plt.gca().spines['right'].set_visible(False)\n",
    "plt.legend(loc=4)\n",
    "plt.grid(True)\n",
    "\n",
    "plt.savefig(\"PR curve SVM sigmoid\", dpi=800,bbox_inches = 'tight')\n",
    "\n",
    "\n",
    "#Confusion Matrix\n",
    " #print confusion matrix\n",
    "cm=confusion_matrix(y_test, y_pred)  \n",
    "plt.figure(figsize=(10,6))\n",
    "sns.heatmap(cm,annot=True,fmt=\"d\")\n",
    "sns.heatmap\n",
    "plt.xlabel('Actual values')\n",
    "plt.ylabel('Predicted values')\n",
    "plt.savefig(\"Confusion Matix SVM sigmoid\", dpi=800,bbox_inches = 'tight')\n",
    "    \n",
    "\n"
   ]
  },
  {
   "cell_type": "markdown",
   "metadata": {},
   "source": [
    "# Naive Bayes"
   ]
  },
  {
   "cell_type": "code",
   "execution_count": 19,
   "metadata": {},
   "outputs": [
    {
     "name": "stdout",
     "output_type": "stream",
     "text": [
      "[[106  14]\n",
      " [ 18  81]]\n",
      "              precision    recall  f1-score   support\n",
      "\n",
      "         0.0       0.85      0.88      0.87       120\n",
      "         1.0       0.85      0.82      0.84        99\n",
      "\n",
      "    accuracy                           0.85       219\n",
      "   macro avg       0.85      0.85      0.85       219\n",
      "weighted avg       0.85      0.85      0.85       219\n",
      "\n",
      "\n",
      "\n",
      "accuracy 0.85\n",
      "precision 0.85\n",
      "recall 0.82\n",
      "AUC: 0.91\n",
      "Precision-Recall: 0.86\n"
     ]
    },
    {
     "data": {
      "image/png": "[encoded data removed]",
      "text/plain": [
       "<Figure size 432x288 with 1 Axes>"
      ]
     },
     "metadata": {
      "needs_background": "light"
     },
     "output_type": "display_data"
    },
    {
     "data": {
      "image/png": "[encoded data removed]",
      "text/plain": [
       "<Figure size 432x288 with 1 Axes>"
      ]
     },
     "metadata": {
      "needs_background": "light"
     },
     "output_type": "display_data"
    },
    {
     "data": {
      "image/png": "[encoded data removed]",
      "text/plain": [
       "<Figure size 720x432 with 2 Axes>"
      ]
     },
     "metadata": {
      "needs_background": "light"
     },
     "output_type": "display_data"
    }
   ],
   "source": [
    "from sklearn.naive_bayes import GaussianNB\n",
    "\n",
    "from imblearn.over_sampling import BorderlineSMOTE\n",
    "df = df.astype('float64')\n",
    "\n",
    "x = df.drop('PCOS (Y/N)', axis=1)\n",
    "y = df['PCOS (Y/N)']\n",
    "\n",
    "oversample = BorderlineSMOTE()\n",
    "x, y = oversample.fit_resample(x, y)\n",
    "\n",
    "SS = StandardScaler()\n",
    "df_scaled = pd.DataFrame(SS.fit_transform(x), columns = x.columns) # as scaling mandotory for KNN model \n",
    "\n",
    "x_train,x_test,y_train,y_test = train_test_split(df_scaled,y, test_size = 0.3, random_state = 1)\n",
    "#x_train1,x_test1,y_train,y_test = train_test_split(,y, test_size = 0.3, random_state = 1)\n",
    "\n",
    "\n",
    "#Create a Gaussian Classifier\n",
    "modelGaussian = GaussianNB()\n",
    "\n",
    "# Train the model using the training sets\n",
    "nb=modelGaussian.fit(x_train,y_train)\n",
    "\n",
    "\n",
    "y_pred = nb.predict(x_test)\n",
    "y_proba = nb.predict_proba(x_test)[:,1]\n",
    "\n",
    "print(confusion_matrix(y_test, y_pred))\n",
    "print(classification_report(y_test, y_pred))\n",
    "\n",
    "\n",
    "print('\\n')\n",
    "accuracy = round(accuracy_score(y_test, y_pred),2)\n",
    "print(\"accuracy\",accuracy)\n",
    "precision = round(precision_score(y_test, y_pred),2)\n",
    "print(\"precision\",precision)\n",
    "recall = round(recall_score(y_test, y_pred),2)\n",
    "print(\"recall\",recall)\n",
    "precision_recall = round(average_precision_score(y_test, y_proba),2)\n",
    "auc = round(roc_auc_score(y_test, y_proba),2)\n",
    "print('AUC: {}'.format(round(roc_auc_score(y_test, y_proba),2)))\n",
    "print('Precision-Recall: {}'.format(round(average_precision_score(y_test, y_proba),2)))\n",
    "\n",
    "fpr, tpr, _ = roc_curve(y_test,  y_proba)\n",
    "auc = round(roc_auc_score(y_test, y_proba),2)\n",
    "\n",
    "\n",
    "fig = plt.figure()\n",
    "\n",
    "# Set titles for the figure and the subplot respectively\n",
    "fig.suptitle('(e)', fontsize=14, fontweight='bold')\n",
    "ax = plt.axes()\n",
    "ax.set_facecolor('beige')\n",
    "\n",
    "plt.plot(fpr,tpr,color='xkcd:black',label='Naive Baye  AUC: '+str(auc))\n",
    "plt.legend(loc=4)\n",
    "plt.grid(True)\n",
    "plt.plot([0, 1], [0, 1], color='blue', linestyle='-.')\n",
    "plt.gca().spines['top'].set_visible(False)\n",
    "plt.gca().spines['right'].set_visible(False)\n",
    "plt.savefig(\"AUC Naive Bayes\", dpi=800,bbox_inches = 'tight')\n",
    "    \n",
    "plt.show()\n",
    "    \n",
    "\n",
    "\n",
    "\n",
    "#Precsiion Recall Curve\n",
    "from sklearn.metrics import plot_precision_recall_curve\n",
    "plot_precision_recall_curve(nb, x_test, y_test,color='xkcd:black', name = 'Naive Bayes')\n",
    "\n",
    "\n",
    "\n",
    "plt.grid(True)\n",
    "plt.plot([0, 1], [0, 1], color='blue', linestyle='-.')\n",
    "plt.gca().spines['top'].set_visible(False)\n",
    "plt.gca().spines['right'].set_visible(False)\n",
    "plt.legend(loc=4)\n",
    "plt.grid(True)\n",
    "\n",
    "plt.savefig(\"PR curve Naive Bayes\", dpi=800,bbox_inches = 'tight')\n",
    "\n",
    "\n",
    "#Confusion Matrix\n",
    " #print confusion matrix\n",
    "cm=confusion_matrix(y_test, y_pred)  \n",
    "plt.figure(figsize=(10,6))\n",
    "sns.heatmap(cm,annot=True,fmt=\"d\")\n",
    "sns.heatmap\n",
    "plt.xlabel('Actual values')\n",
    "plt.ylabel('Predicted values')\n",
    "plt.savefig(\"Confusion Matix Naive Bayes\", dpi=800,bbox_inches = 'tight')\n",
    "    \n",
    "\n"
   ]
  },
  {
   "cell_type": "markdown",
   "metadata": {},
   "source": [
    "# KNN"
   ]
  },
  {
   "cell_type": "code",
   "execution_count": 20,
   "metadata": {},
   "outputs": [
    {
     "name": "stdout",
     "output_type": "stream",
     "text": [
      "Fitting 3 folds for each of 99 candidates, totalling 297 fits\n",
      "[[100  20]\n",
      " [  1  98]]\n",
      "              precision    recall  f1-score   support\n",
      "\n",
      "         0.0       0.99      0.83      0.90       120\n",
      "         1.0       0.83      0.99      0.90        99\n",
      "\n",
      "    accuracy                           0.90       219\n",
      "   macro avg       0.91      0.91      0.90       219\n",
      "weighted avg       0.92      0.90      0.90       219\n",
      "\n",
      "\n",
      "\n",
      "accuracy 0.9\n",
      "precision 0.83\n",
      "recall 0.99\n",
      "AUC: 0.91\n",
      "Precision-Recall: 0.83\n"
     ]
    },
    {
     "data": {
      "image/png": "[encoded data removed]",
      "text/plain": [
       "<Figure size 432x288 with 1 Axes>"
      ]
     },
     "metadata": {
      "needs_background": "light"
     },
     "output_type": "display_data"
    },
    {
     "data": {
      "image/png": "[encoded data removed]",
      "text/plain": [
       "<Figure size 432x288 with 1 Axes>"
      ]
     },
     "metadata": {
      "needs_background": "light"
     },
     "output_type": "display_data"
    },
    {
     "data": {
      "image/png": "[encoded data removed]",
      "text/plain": [
       "<Figure size 720x432 with 2 Axes>"
      ]
     },
     "metadata": {
      "needs_background": "light"
     },
     "output_type": "display_data"
    }
   ],
   "source": [
    "from sklearn.neighbors import KNeighborsClassifier\n",
    "\n",
    "from imblearn.over_sampling import BorderlineSMOTE\n",
    "df = df.astype('float64')\n",
    "\n",
    "x = df.drop('PCOS (Y/N)', axis=1)\n",
    "y = df['PCOS (Y/N)']\n",
    "\n",
    "oversample = BorderlineSMOTE()\n",
    "x, y = oversample.fit_resample(x, y)\n",
    "\n",
    "SS = StandardScaler()\n",
    "df_scaled = pd.DataFrame(SS.fit_transform(x), columns = x.columns) # as scaling mandotory for KNN model \n",
    "\n",
    "x_train,x_test,y_train,y_test = train_test_split(df_scaled,y, test_size = 0.3, random_state = 1)\n",
    "#x_train1,x_test1,y_train,y_test = train_test_split(,y, test_size = 0.3, random_state = 1)\n",
    "\n",
    "\n",
    "# Create a based model\n",
    "knn = KNeighborsClassifier(algorithm = 'brute')\n",
    "\n",
    "k_range = list(range(1, 100))\n",
    "param_grid = dict(n_neighbors=k_range)\n",
    "\n",
    "# Instantiate the grid search model\n",
    "knnClassifier = GridSearchCV(estimator = knn, param_grid = param_grid, \n",
    "                          cv = 3, n_jobs = -1, verbose = 2)\n",
    "\n",
    "knnClassifier.fit(x_train, y_train)\n",
    "knnClassifier.best_params_\n",
    "\n",
    "\n",
    "\n",
    "y_pred = knnClassifier.predict(x_test)\n",
    "y_proba = knnClassifier.predict_proba(x_test)[:,1]\n",
    "\n",
    "print(confusion_matrix(y_test, y_pred))\n",
    "print(classification_report(y_test, y_pred))\n",
    "\n",
    "\n",
    "print('\\n')\n",
    "accuracy = round(accuracy_score(y_test, y_pred),2)\n",
    "print(\"accuracy\",accuracy)\n",
    "precision = round(precision_score(y_test, y_pred),2)\n",
    "print(\"precision\",precision)\n",
    "recall = round(recall_score(y_test, y_pred),2)\n",
    "print(\"recall\",recall)\n",
    "precision_recall = round(average_precision_score(y_test, y_proba),2)\n",
    "auc = round(roc_auc_score(y_test, y_proba),2)\n",
    "print('AUC: {}'.format(round(roc_auc_score(y_test, y_proba),2)))\n",
    "print('Precision-Recall: {}'.format(round(average_precision_score(y_test, y_proba),2)))\n",
    "\n",
    "fpr, tpr, _ = roc_curve(y_test,  y_proba)\n",
    "auc = round(roc_auc_score(y_test, y_proba),2)\n",
    "\n",
    "\n",
    "fig = plt.figure()\n",
    "\n",
    "# Set titles for the figure and the subplot respectively\n",
    "fig.suptitle('(c)', fontsize=14, fontweight='bold')\n",
    "ax = plt.axes()\n",
    "ax.set_facecolor('beige')\n",
    "\n",
    "plt.plot(fpr,tpr,color='xkcd:black',label='KNN  AUC: '+str(auc))\n",
    "plt.legend(loc=4)\n",
    "plt.grid(True)\n",
    "plt.plot([0, 1], [0, 1], color='blue', linestyle='-.')\n",
    "plt.gca().spines['top'].set_visible(False)\n",
    "plt.gca().spines['right'].set_visible(False)\n",
    "plt.savefig(\"AUC KNN\", dpi=800,bbox_inches = 'tight')\n",
    "    \n",
    "plt.show()\n",
    "    \n",
    "\n",
    "\n",
    "\n",
    "#Precsiion Recall Curve\n",
    "from sklearn.metrics import plot_precision_recall_curve\n",
    "plot_precision_recall_curve(knnClassifier, x_test, y_test,color='xkcd:black', name = 'KNN')\n",
    "\n",
    "\n",
    "\n",
    "plt.grid(True)\n",
    "plt.plot([0, 1], [0, 1], color='blue', linestyle='-.')\n",
    "plt.gca().spines['top'].set_visible(False)\n",
    "plt.gca().spines['right'].set_visible(False)\n",
    "plt.legend(loc=4)\n",
    "plt.grid(True)\n",
    "\n",
    "plt.savefig(\"PR KNN\", dpi=800,bbox_inches = 'tight')\n",
    "\n",
    "\n",
    "#Confusion Matrix\n",
    " #print confusion matrix\n",
    "cm=confusion_matrix(y_test, y_pred)  \n",
    "plt.figure(figsize=(10,6))\n",
    "sns.heatmap(cm,annot=True,fmt=\"d\")\n",
    "sns.heatmap\n",
    "plt.xlabel('Actual values')\n",
    "plt.ylabel('Predicted values')\n",
    "plt.savefig(\"Confusion Matix KNN\", dpi=800,bbox_inches = 'tight')\n",
    "    \n"
   ]
  },
  {
   "cell_type": "markdown",
   "metadata": {},
   "source": [
    "# Ensemble Tree Based Algo"
   ]
  },
  {
   "cell_type": "markdown",
   "metadata": {},
   "source": [
    "# AdaBoost"
   ]
  },
  {
   "cell_type": "code",
   "execution_count": 21,
   "metadata": {},
   "outputs": [
    {
     "name": "stdout",
     "output_type": "stream",
     "text": [
      "Fitting 3 folds for each of 20 candidates, totalling 60 fits\n",
      "[[109  11]\n",
      " [  4  95]]\n",
      "              precision    recall  f1-score   support\n",
      "\n",
      "         0.0       0.96      0.91      0.94       120\n",
      "         1.0       0.90      0.96      0.93        99\n",
      "\n",
      "    accuracy                           0.93       219\n",
      "   macro avg       0.93      0.93      0.93       219\n",
      "weighted avg       0.93      0.93      0.93       219\n",
      "\n",
      "\n",
      "\n",
      "accuracy 0.93\n",
      "precision 0.9\n",
      "recall 0.96\n",
      "AUC: 0.97\n",
      "Precision-Recall: 0.96\n"
     ]
    },
    {
     "data": {
      "image/png": "[encoded data removed]",
      "text/plain": [
       "<Figure size 432x288 with 1 Axes>"
      ]
     },
     "metadata": {
      "needs_background": "light"
     },
     "output_type": "display_data"
    },
    {
     "data": {
      "image/png": "[encoded data removed]",
      "text/plain": [
       "<Figure size 432x288 with 1 Axes>"
      ]
     },
     "metadata": {
      "needs_background": "light"
     },
     "output_type": "display_data"
    },
    {
     "data": {
      "image/png": "[encoded data removed]",
      "text/plain": [
       "<Figure size 720x432 with 2 Axes>"
      ]
     },
     "metadata": {
      "needs_background": "light"
     },
     "output_type": "display_data"
    }
   ],
   "source": [
    "from imblearn.over_sampling import BorderlineSMOTE\n",
    "from sklearn.ensemble import RandomForestClassifier, RandomForestRegressor, BaggingClassifier,AdaBoostClassifier,GradientBoostingClassifier\n",
    "df = df.astype('float64')\n",
    "\n",
    "x = df.drop('PCOS (Y/N)', axis=1)\n",
    "y = df['PCOS (Y/N)']\n",
    "\n",
    "oversample = BorderlineSMOTE()\n",
    "x, y = oversample.fit_resample(x, y)\n",
    "\n",
    "SS = StandardScaler()\n",
    "df_scaled = pd.DataFrame(SS.fit_transform(x), columns = x.columns) # as scaling mandotory for KNN model \n",
    "\n",
    "x_train,x_test,y_train,y_test = train_test_split(df_scaled,y, test_size = 0.3, random_state = 1)\n",
    "#x_train1,x_test1,y_train,y_test = train_test_split(,y, test_size = 0.3, random_state = 1)\n",
    "\n",
    "param_grid = {\n",
    "    'n_estimators': [100, 200, 300, 1000],\n",
    "    'learning_rate': [0.0001, 0.001, 0.01, 0.1, 1.0]\n",
    "}\n",
    "\n",
    "# Create a based model\n",
    "ad = AdaBoostClassifier()\n",
    "# Instantiate the grid search model\n",
    "grid_searchAdaBoostClassifier = GridSearchCV(estimator = ad, param_grid = param_grid, \n",
    "                          cv = 3, n_jobs = -1, verbose = 2)\n",
    "\n",
    "grid_searchAdaBoostClassifier.fit(x_train, y_train)\n",
    "grid_searchAdaBoostClassifier.best_params_\n",
    "\n",
    "y_pred = grid_searchAdaBoostClassifier.predict(x_test)\n",
    "y_proba = grid_searchAdaBoostClassifier.predict_proba(x_test)[:,1]\n",
    "\n",
    "print(confusion_matrix(y_test, y_pred))\n",
    "print(classification_report(y_test, y_pred))\n",
    "\n",
    "# ExtratreeClassifier summary \n",
    "print('\\n')\n",
    "accuracy = round(accuracy_score(y_test, y_pred),2)\n",
    "print(\"accuracy\",accuracy)\n",
    "precision = round(precision_score(y_test, y_pred),2)\n",
    "print(\"precision\",precision)\n",
    "recall = round(recall_score(y_test, y_pred),2)\n",
    "print(\"recall\",recall)\n",
    "precision_recall = round(average_precision_score(y_test, y_proba),2)\n",
    "auc = round(roc_auc_score(y_test, y_proba),2)\n",
    "print('AUC: {}'.format(round(roc_auc_score(y_test, y_proba),2)))\n",
    "print('Precision-Recall: {}'.format(round(average_precision_score(y_test, y_proba),2)))\n",
    "\n",
    "fpr, tpr, _ = roc_curve(y_test,  y_proba)\n",
    "auc = round(roc_auc_score(y_test, y_proba),2)\n",
    "\n",
    "\n",
    "fig = plt.figure()\n",
    "\n",
    "# Set titles for the figure and the subplot respectively\n",
    "fig.suptitle('(c)', fontsize=14, fontweight='bold')\n",
    "ax = plt.axes()\n",
    "ax.set_facecolor('beige')\n",
    "\n",
    "plt.plot(fpr,tpr,color='xkcd:black',label='Adaboost  AUC: '+str(auc))\n",
    "plt.legend(loc=4)\n",
    "plt.grid(True)\n",
    "plt.plot([0, 1], [0, 1], color='blue', linestyle='-.')\n",
    "plt.gca().spines['top'].set_visible(False)\n",
    "plt.gca().spines['right'].set_visible(False)\n",
    "plt.savefig(\"AUC Adaboost\", dpi=800,bbox_inches = 'tight')\n",
    "    \n",
    "plt.show()\n",
    "    \n",
    "\n",
    "\n",
    "\n",
    "#Precsiion Recall Curve\n",
    "from sklearn.metrics import plot_precision_recall_curve\n",
    "plot_precision_recall_curve(dtClassifier, x_test, y_test,color='xkcd:black', name = 'Adaboost')\n",
    "\n",
    "\n",
    "\n",
    "plt.grid(True)\n",
    "plt.plot([0, 1], [0, 1], color='blue', linestyle='-.')\n",
    "plt.gca().spines['top'].set_visible(False)\n",
    "plt.gca().spines['right'].set_visible(False)\n",
    "plt.legend(loc=4)\n",
    "plt.grid(True)\n",
    "\n",
    "plt.savefig(\"PR curve Adaboost\", dpi=800,bbox_inches = 'tight')\n",
    "\n",
    "\n",
    "#Confusion Matrix\n",
    " #print confusion matrix\n",
    "cm=confusion_matrix(y_test, y_pred)  \n",
    "plt.figure(figsize=(10,6))\n",
    "sns.heatmap(cm,annot=True,fmt=\"d\")\n",
    "sns.heatmap\n",
    "plt.xlabel('Actual values')\n",
    "plt.ylabel('Predicted values')\n",
    "plt.savefig(\"Confusion Matix Adaboost\", dpi=800,bbox_inches = 'tight')\n",
    "    \n"
   ]
  },
  {
   "cell_type": "markdown",
   "metadata": {},
   "source": [
    "# XGBoost Classification"
   ]
  },
  {
   "cell_type": "code",
   "execution_count": 22,
   "metadata": {},
   "outputs": [
    {
     "name": "stdout",
     "output_type": "stream",
     "text": [
      "Fitting 3 folds for each of 360 candidates, totalling 1080 fits\n",
      "[[109  11]\n",
      " [  4  95]]\n",
      "              precision    recall  f1-score   support\n",
      "\n",
      "         0.0       0.96      0.91      0.94       120\n",
      "         1.0       0.90      0.96      0.93        99\n",
      "\n",
      "    accuracy                           0.93       219\n",
      "   macro avg       0.93      0.93      0.93       219\n",
      "weighted avg       0.93      0.93      0.93       219\n",
      "\n",
      "\n",
      "\n",
      "accuracy 0.93\n",
      "precision 0.9\n",
      "recall 0.96\n",
      "AUC: 0.98\n",
      "Precision-Recall: 0.98\n"
     ]
    },
    {
     "data": {
      "image/png": "[encoded data removed]",
      "text/plain": [
       "<Figure size 432x288 with 1 Axes>"
      ]
     },
     "metadata": {
      "needs_background": "light"
     },
     "output_type": "display_data"
    },
    {
     "data": {
      "image/png": "[encoded data removed]",
      "text/plain": [
       "<Figure size 432x288 with 1 Axes>"
      ]
     },
     "metadata": {
      "needs_background": "light"
     },
     "output_type": "display_data"
    },
    {
     "data": {
      "image/png": "[encoded data removed]",
      "text/plain": [
       "<Figure size 720x432 with 2 Axes>"
      ]
     },
     "metadata": {
      "needs_background": "light"
     },
     "output_type": "display_data"
    }
   ],
   "source": [
    "from xgboost import XGBClassifier\n",
    "\n",
    "from imblearn.over_sampling import BorderlineSMOTE\n",
    "df = df.astype('float64')\n",
    "\n",
    "x = df.drop('PCOS (Y/N)', axis=1)\n",
    "y = df['PCOS (Y/N)']\n",
    "\n",
    "oversample = BorderlineSMOTE()\n",
    "x, y = oversample.fit_resample(x, y)\n",
    "\n",
    "SS = StandardScaler()\n",
    "df_scaled = pd.DataFrame(SS.fit_transform(x), columns = x.columns) # as scaling mandotory for KNN model \n",
    "\n",
    "x_train,x_test,y_train,y_test = train_test_split(df_scaled,y, test_size = 0.3, random_state = 1)\n",
    "#x_train1,x_test1,y_train,y_test = train_test_split(,y, test_size = 0.3, random_state = 1)\n",
    "\n",
    "param_grid = {\n",
    "    \"learning_rate\": (0.05, 0.10, 0.15),\n",
    "                        \"max_depth\": [ 3, 4, 5, 6, 8],\n",
    "                        \"min_child_weight\": [ 1, 3, 5, 7],\n",
    "                        \"gamma\":[ 0.0, 0.1, 0.2],\n",
    "                        \"colsample_bytree\":[ 0.3, 0.4],\n",
    "             \n",
    "        \n",
    "             }\n",
    "\n",
    "# Create a based model\n",
    "lg = XGBClassifier()\n",
    "# Instantiate the grid search model\n",
    "xgb = GridSearchCV(estimator = lg, param_grid = param_grid, \n",
    "                          cv = 3, n_jobs = -1, verbose = 2)\n",
    "\n",
    "xgb.fit(x_train, y_train)\n",
    "xgb.best_params_\n",
    "\n",
    "\n",
    "\n",
    "\n",
    "y_pred = xgb.predict(x_test)\n",
    "y_proba = xgb.predict_proba(x_test)[:,1]\n",
    "\n",
    "print(confusion_matrix(y_test, y_pred))\n",
    "print(classification_report(y_test, y_pred))\n",
    "\n",
    "# ExtratreeClassifier summary \n",
    "print('\\n')\n",
    "accuracy = round(accuracy_score(y_test, y_pred),2)\n",
    "print(\"accuracy\",accuracy)\n",
    "precision = round(precision_score(y_test, y_pred),2)\n",
    "print(\"precision\",precision)\n",
    "recall = round(recall_score(y_test, y_pred),2)\n",
    "print(\"recall\",recall)\n",
    "precision_recall = round(average_precision_score(y_test, y_proba),2)\n",
    "auc = round(roc_auc_score(y_test, y_proba),2)\n",
    "print('AUC: {}'.format(round(roc_auc_score(y_test, y_proba),2)))\n",
    "print('Precision-Recall: {}'.format(round(average_precision_score(y_test, y_proba),2)))\n",
    "\n",
    "fpr, tpr, _ = roc_curve(y_test,  y_proba)\n",
    "auc = round(roc_auc_score(y_test, y_proba),2)\n",
    "\n",
    "\n",
    "fig = plt.figure()\n",
    "\n",
    "# Set titles for the figure and the subplot respectively\n",
    "fig.suptitle('(f)', fontsize=14, fontweight='bold')\n",
    "ax = plt.axes()\n",
    "ax.set_facecolor('beige')\n",
    "\n",
    "plt.plot(fpr,tpr,color='xkcd:black',label='Xgboost  AUC: '+str(auc))\n",
    "plt.legend(loc=4)\n",
    "plt.grid(True)\n",
    "plt.plot([0, 1], [0, 1], color='blue', linestyle='-.')\n",
    "plt.gca().spines['top'].set_visible(False)\n",
    "plt.gca().spines['right'].set_visible(False)\n",
    "plt.savefig(\"AUC Xgboost\", dpi=800,bbox_inches = 'tight')\n",
    "    \n",
    "plt.show()\n",
    "    \n",
    "\n",
    "\n",
    "\n",
    "#Precsiion Recall Curve\n",
    "from sklearn.metrics import plot_precision_recall_curve\n",
    "plot_precision_recall_curve(xgb, x_test, y_test,color='xkcd:black', name = 'Xgboost')\n",
    "\n",
    "\n",
    "\n",
    "plt.grid(True)\n",
    "plt.plot([0, 1], [0, 1], color='blue', linestyle='-.')\n",
    "plt.gca().spines['top'].set_visible(False)\n",
    "plt.gca().spines['right'].set_visible(False)\n",
    "plt.legend(loc=4)\n",
    "plt.grid(True)\n",
    "\n",
    "plt.savefig(\"PR curve xgboost\", dpi=800,bbox_inches = 'tight')\n",
    "\n",
    "\n",
    "#Confusion Matrix\n",
    " #print confusion matrix\n",
    "cm=confusion_matrix(y_test, y_pred)  \n",
    "plt.figure(figsize=(10,6))\n",
    "sns.heatmap(cm,annot=True,fmt=\"d\")\n",
    "sns.heatmap\n",
    "plt.xlabel('Actual values')\n",
    "plt.ylabel('Predicted values')\n",
    "plt.savefig(\"Confusion Matix Xgboost\", dpi=800,bbox_inches = 'tight')\n",
    "    \n"
   ]
  },
  {
   "cell_type": "markdown",
   "metadata": {},
   "source": [
    "# Extatrees Classifier"
   ]
  },
  {
   "cell_type": "code",
   "execution_count": 23,
   "metadata": {},
   "outputs": [
    {
     "name": "stdout",
     "output_type": "stream",
     "text": [
      "Fitting 3 folds for each of 120 candidates, totalling 360 fits\n",
      "[[103  17]\n",
      " [ 10  89]]\n",
      "              precision    recall  f1-score   support\n",
      "\n",
      "         0.0       0.91      0.86      0.88       120\n",
      "         1.0       0.84      0.90      0.87        99\n",
      "\n",
      "    accuracy                           0.88       219\n",
      "   macro avg       0.88      0.88      0.88       219\n",
      "weighted avg       0.88      0.88      0.88       219\n",
      "\n",
      "\n",
      "\n",
      "accuracy 0.88\n",
      "precision 0.84\n",
      "recall 0.9\n",
      "AUC: 0.95\n",
      "Precision-Recall: 0.94\n"
     ]
    },
    {
     "data": {
      "image/png": "[encoded data removed]",
      "text/plain": [
       "<Figure size 432x288 with 1 Axes>"
      ]
     },
     "metadata": {
      "needs_background": "light"
     },
     "output_type": "display_data"
    },
    {
     "data": {
      "image/png": "[encoded data removed]",
      "text/plain": [
       "<Figure size 432x288 with 1 Axes>"
      ]
     },
     "metadata": {
      "needs_background": "light"
     },
     "output_type": "display_data"
    },
    {
     "data": {
      "image/png": "[encoded data removed]",
      "text/plain": [
       "<Figure size 720x432 with 2 Axes>"
      ]
     },
     "metadata": {
      "needs_background": "light"
     },
     "output_type": "display_data"
    }
   ],
   "source": [
    "from sklearn.ensemble import ExtraTreesClassifier\n",
    "\n",
    "from imblearn.over_sampling import BorderlineSMOTE\n",
    "df = df.astype('float64')\n",
    "\n",
    "x = df.drop('PCOS (Y/N)', axis=1)\n",
    "y = df['PCOS (Y/N)']\n",
    "\n",
    "oversample = BorderlineSMOTE()\n",
    "x, y = oversample.fit_resample(x, y)\n",
    "\n",
    "SS = StandardScaler()\n",
    "df_scaled = pd.DataFrame(SS.fit_transform(x), columns = x.columns) # as scaling mandotory for KNN model \n",
    "\n",
    "x_train,x_test,y_train,y_test = train_test_split(df_scaled,y, test_size = 0.3, random_state = 1)\n",
    "#x_train1,x_test1,y_train,y_test = train_test_split(,y, test_size = 0.3, random_state = 1)\n",
    "\n",
    "param_grid = {\n",
    "     'n_estimators': range(50,126,25),\n",
    "        'min_samples_leaf': range(20,50,5),\n",
    "        'min_samples_split': range(15,36,5),\n",
    "        \n",
    "             }\n",
    "\n",
    "# Create a based model\n",
    "lg = ExtraTreesClassifier()\n",
    "# Instantiate the grid search model\n",
    "etc = GridSearchCV(estimator = lg, param_grid = param_grid, \n",
    "                          cv = 3, n_jobs = -1, verbose = 2)\n",
    "\n",
    "etc.fit(x_train, y_train)\n",
    "etc.best_params_\n",
    "\n",
    "\n",
    "\n",
    "\n",
    "\n",
    "\n",
    "y_pred = etc.predict(x_test)\n",
    "y_proba = etc.predict_proba(x_test)[:,1]\n",
    "\n",
    "print(confusion_matrix(y_test, y_pred))\n",
    "print(classification_report(y_test, y_pred))\n",
    "\n",
    "# ExtratreeClassifier summary \n",
    "print('\\n')\n",
    "accuracy = round(accuracy_score(y_test, y_pred),2)\n",
    "print(\"accuracy\",accuracy)\n",
    "precision = round(precision_score(y_test, y_pred),2)\n",
    "print(\"precision\",precision)\n",
    "recall = round(recall_score(y_test, y_pred),2)\n",
    "print(\"recall\",recall)\n",
    "precision_recall = round(average_precision_score(y_test, y_proba),2)\n",
    "auc = round(roc_auc_score(y_test, y_proba),2)\n",
    "print('AUC: {}'.format(round(roc_auc_score(y_test, y_proba),2)))\n",
    "print('Precision-Recall: {}'.format(round(average_precision_score(y_test, y_proba),2)))\n",
    "\n",
    "fpr, tpr, _ = roc_curve(y_test,  y_proba)\n",
    "auc = round(roc_auc_score(y_test, y_proba),2)\n",
    "\n",
    "\n",
    "fig = plt.figure()\n",
    "\n",
    "# Set titles for the figure and the subplot respectively\n",
    "fig.suptitle('(g)', fontsize=14, fontweight='bold')\n",
    "ax = plt.axes()\n",
    "ax.set_facecolor('beige')\n",
    "\n",
    "plt.plot(fpr,tpr,color='xkcd:black',label='Extratrees  AUC: '+str(auc))\n",
    "plt.legend(loc=4)\n",
    "plt.grid(True)\n",
    "plt.plot([0, 1], [0, 1], color='blue', linestyle='-.')\n",
    "plt.gca().spines['top'].set_visible(False)\n",
    "plt.gca().spines['right'].set_visible(False)\n",
    "plt.savefig(\"AUC Extratrees\", dpi=800,bbox_inches = 'tight')\n",
    "    \n",
    "plt.show()\n",
    "    \n",
    "\n",
    "\n",
    "\n",
    "#Precsiion Recall Curve\n",
    "from sklearn.metrics import plot_precision_recall_curve\n",
    "plot_precision_recall_curve(etc, x_test, y_test,color='xkcd:black', name = 'Extra trees')\n",
    "\n",
    "\n",
    "\n",
    "plt.grid(True)\n",
    "plt.plot([0, 1], [0, 1], color='blue', linestyle='-.')\n",
    "plt.gca().spines['top'].set_visible(False)\n",
    "plt.gca().spines['right'].set_visible(False)\n",
    "plt.legend(loc=4)\n",
    "plt.grid(True)\n",
    "\n",
    "plt.savefig(\"Extratrees pr curve random forest\", dpi=800,bbox_inches = 'tight')\n",
    "\n",
    "\n",
    "#Confusion Matrix\n",
    " #print confusion matrix\n",
    "cm=confusion_matrix(y_test, y_pred)  \n",
    "plt.figure(figsize=(10,6))\n",
    "sns.heatmap(cm,annot=True,fmt=\"d\")\n",
    "sns.heatmap\n",
    "plt.xlabel('Actual values')\n",
    "plt.ylabel('Predicted values')\n",
    "plt.savefig(\"Confusion Matix Extra Trees\", dpi=800,bbox_inches = 'tight')\n",
    "    "
   ]
  },
  {
   "cell_type": "markdown",
   "metadata": {},
   "source": [
    "# Light GBM"
   ]
  },
  {
   "cell_type": "code",
   "execution_count": 24,
   "metadata": {},
   "outputs": [],
   "source": [
    "# !pip install lightgbm"
   ]
  },
  {
   "cell_type": "code",
   "execution_count": 25,
   "metadata": {},
   "outputs": [],
   "source": [
    "# from lightgbm import LGBMClassifier\n",
    "\n",
    "# from imblearn.over_sampling import BorderlineSMOTE\n",
    "# df = df.astype('float64')\n",
    "\n",
    "# x = df.drop('PCOS (Y/N)', axis=1)\n",
    "# y = df['PCOS (Y/N)']\n",
    "\n",
    "# oversample = BorderlineSMOTE()\n",
    "# x, y = oversample.fit_resample(x, y)\n",
    "\n",
    "# SS = StandardScaler()\n",
    "# df_scaled = pd.DataFrame(SS.fit_transform(x), columns = x.columns) # as scaling mandotory for KNN model \n",
    "\n",
    "# x_train,x_test,y_train,y_test = train_test_split(df_scaled,y, test_size = 0.3, random_state = 1)\n",
    "# #x_train1,x_test1,y_train,y_test = train_test_split(,y, test_size = 0.3, random_state = 1)\n",
    "\n",
    "# param_grid = {\n",
    "#      'num_leaves': [31, 127],\n",
    "#     'reg_alpha': [0.1, 0.5],\n",
    "#     'min_data_in_leaf': [30, 50, 100, 300, 400],\n",
    "#     'lambda_l1': [0, 1, 1.5],\n",
    "#     'lambda_l2': [0, 1]\n",
    "             \n",
    "        \n",
    "#              }\n"
   ]
  },
  {
   "cell_type": "code",
   "execution_count": 26,
   "metadata": {},
   "outputs": [],
   "source": [
    "\n",
    "# # Create a based model\n",
    "# lg =  LGBMClassifier()\n",
    "# # Instantiate the grid search model\n",
    "# lgm = GridSearchCV(estimator = lg, param_grid = param_grid, \n",
    "#                           cv = 3, n_jobs = -1, verbose = 2)\n",
    "\n",
    "# lgm.fit(x_train, y_train)\n",
    "# lgm.best_params_\n",
    "\n",
    "\n",
    "\n",
    "\n",
    "# y_pred = lgm.predict(x_test)\n",
    "# y_proba = lgm.predict_proba(x_test)[:,1]\n",
    "\n",
    "# print(confusion_matrix(y_test, y_pred))\n",
    "# print(classification_report(y_test, y_pred))\n",
    "\n",
    "# # ExtratreeClassifier summary \n",
    "# print('\\n')\n",
    "# accuracy = round(accuracy_score(y_test, y_pred),2)\n",
    "# print(\"accuracy\",accuracy)\n",
    "# precision = round(precision_score(y_test, y_pred),2)\n",
    "# print(\"precision\",precision)\n",
    "# recall = round(recall_score(y_test, y_pred),2)\n",
    "# print(\"recall\",recall)\n",
    "# precision_recall = round(average_precision_score(y_test, y_proba),2)\n",
    "# auc = round(roc_auc_score(y_test, y_proba),2)\n",
    "# print('AUC: {}'.format(round(roc_auc_score(y_test, y_proba),2)))\n",
    "# print('Precision-Recall: {}'.format(round(average_precision_score(y_test, y_proba),2)))\n",
    "\n",
    "# fpr, tpr, _ = roc_curve(y_test,  y_proba)\n",
    "# auc = round(roc_auc_score(y_test, y_proba),2)\n",
    "\n",
    "\n",
    "# fig = plt.figure()\n",
    "\n",
    "# # Set titles for the figure and the subplot respectively\n",
    "# fig.suptitle('(e)', fontsize=14, fontweight='bold')\n",
    "# ax = plt.axes()\n",
    "# ax.set_facecolor('beige')\n",
    "\n",
    "# plt.plot(fpr,tpr,color='xkcd:black',label='Lightgbm  AUC: '+str(auc))\n",
    "# plt.legend(loc=4)\n",
    "# plt.grid(True)\n",
    "# plt.plot([0, 1], [0, 1], color='blue', linestyle='-.')\n",
    "# plt.gca().spines['top'].set_visible(False)\n",
    "# plt.gca().spines['right'].set_visible(False)\n",
    "# plt.savefig(\"AUC Lightgbm\", dpi=800,bbox_inches = 'tight')\n",
    "    \n",
    "# plt.show()\n",
    "    \n",
    "\n",
    "\n",
    "\n",
    "# #Precsiion Recall Curve\n",
    "# from sklearn.metrics import plot_precision_recall_curve\n",
    "# plot_precision_recall_curve(lgm, x_test, y_test,color='xkcd:black', name = 'Lightgbm')\n",
    "\n",
    "\n",
    "\n",
    "# plt.grid(True)\n",
    "# plt.plot([0, 1], [0, 1], color='blue', linestyle='-.')\n",
    "# plt.gca().spines['top'].set_visible(False)\n",
    "# plt.gca().spines['right'].set_visible(False)\n",
    "# plt.legend(loc=4)\n",
    "# plt.grid(True)\n",
    "\n",
    "# plt.savefig(\"PR curve Lightgbm\", dpi=800,bbox_inches = 'tight')\n",
    "\n",
    "\n",
    "# #Confusion Matrix\n",
    "#  #print confusion matrix\n",
    "# cm=confusion_matrix(y_test, y_pred)  \n",
    "# plt.figure(figsize=(10,6))\n",
    "# sns.heatmap(cm,annot=True,fmt=\"d\")\n",
    "# sns.heatmap\n",
    "# plt.xlabel('Actual values')\n",
    "# plt.ylabel('Predicted values')\n",
    "# plt.savefig(\"Confusion Matix Lightgbm\", dpi=800,bbox_inches = 'tight')\n",
    "    \n"
   ]
  },
  {
   "cell_type": "markdown",
   "metadata": {},
   "source": [
    "# stack1"
   ]
  },
  {
   "cell_type": "code",
   "execution_count": 27,
   "metadata": {},
   "outputs": [
    {
     "name": "stdout",
     "output_type": "stream",
     "text": [
      "Fitting 3 folds for each of 14 candidates, totalling 42 fits\n",
      "Fitting 3 folds for each of 99 candidates, totalling 297 fits\n",
      "[[101  19]\n",
      " [  4  95]]\n",
      "              precision    recall  f1-score   support\n",
      "\n",
      "         0.0       0.96      0.84      0.90       120\n",
      "         1.0       0.83      0.96      0.89        99\n",
      "\n",
      "    accuracy                           0.89       219\n",
      "   macro avg       0.90      0.90      0.89       219\n",
      "weighted avg       0.90      0.89      0.90       219\n",
      "\n",
      "\n",
      "\n",
      "accuracy 0.89\n",
      "precision 0.83\n",
      "recall 0.96\n",
      "AUC: 0.98\n",
      "Precision-Recall: 0.97\n"
     ]
    },
    {
     "data": {
      "image/png": "[encoded data removed]",
      "text/plain": [
       "<Figure size 432x288 with 1 Axes>"
      ]
     },
     "metadata": {
      "needs_background": "light"
     },
     "output_type": "display_data"
    },
    {
     "data": {
      "image/png": "[encoded data removed]",
      "text/plain": [
       "<Figure size 432x288 with 1 Axes>"
      ]
     },
     "metadata": {
      "needs_background": "light"
     },
     "output_type": "display_data"
    },
    {
     "data": {
      "image/png": "[encoded data removed]",
      "text/plain": [
       "<Figure size 720x432 with 2 Axes>"
      ]
     },
     "metadata": {
      "needs_background": "light"
     },
     "output_type": "display_data"
    }
   ],
   "source": [
    "# Three models \n",
    "clf1 = lrClassifier\n",
    "clf2 = clf\n",
    "clf3 = svmclassifier \n",
    "clf4 = svmclassifier1\n",
    "clf5 = svmclassifier2\n",
    "clf6 = nb\n",
    "clf7=knnClassifier\n",
    "\n",
    "from mlxtend.classifier import StackingClassifier\n",
    "# meta-classifier \n",
    "meta_clf = LogisticRegression(random_state=42)\n",
    "\n",
    "# Stacking \n",
    "stack1 = StackingClassifier(classifiers=[clf1, clf2, clf3, clf4 , clf5, clf6,clf7],\n",
    "                           use_probas=True,\n",
    "                           average_probas=False,\n",
    "                          meta_classifier=meta_clf)\n",
    "\n",
    "\n",
    "stack1.fit(x_train, y_train)\n",
    "y_pred = stack1.predict(x_test)\n",
    "y_proba = stack1.predict_proba(x_test)[:,1]\n",
    "\n",
    "print(confusion_matrix(y_test, y_pred))\n",
    "print(classification_report(y_test, y_pred))\n",
    "\n",
    "# StackingClassifier summary \n",
    "print('\\n')\n",
    "accuracy = round(accuracy_score(y_test, y_pred),2)\n",
    "print(\"accuracy\",accuracy)\n",
    "precision = round(precision_score(y_test, y_pred),2)\n",
    "print(\"precision\",precision)\n",
    "recall = round(recall_score(y_test, y_pred),2)\n",
    "print(\"recall\",recall)\n",
    "precision_recall = round(average_precision_score(y_test, y_proba),2)\n",
    "auc = round(roc_auc_score(y_test, y_proba),2)\n",
    "print('AUC: {}'.format(round(roc_auc_score(y_test, y_proba),2)))\n",
    "print('Precision-Recall: {}'.format(round(average_precision_score(y_test, y_proba),2)))\n",
    "\n",
    "fpr, tpr, _ = roc_curve(y_test,  y_proba)\n",
    "auc = round(roc_auc_score(y_test, y_proba),2)\n",
    "\n",
    "\n",
    "fig = plt.figure()\n",
    "\n",
    "# Set titles for the figure and the subplot respectively\n",
    "fig.suptitle('(f)', fontsize=14, fontweight='bold')\n",
    "ax = plt.axes()\n",
    "ax.set_facecolor('beige')\n",
    "\n",
    "plt.plot(fpr,tpr,color='xkcd:black',label='Stack-1 AUC: '+str(auc))\n",
    "plt.legend(loc=4)\n",
    "plt.grid(True)\n",
    "plt.plot([0, 1], [0, 1], color='blue', linestyle='-.')\n",
    "plt.gca().spines['top'].set_visible(False)\n",
    "plt.gca().spines['right'].set_visible(False)\n",
    "\n",
    "plt.savefig(\"AUC STACKA\", dpi=800,bbox_inches = 'tight')\n",
    "    \n",
    "plt.show()\n",
    "\n",
    "\n",
    "#Precsiion Recall Curve\n",
    "from sklearn.metrics import plot_precision_recall_curve\n",
    "from sklearn.metrics import precision_recall_curve\n",
    "precision,recall,thresholds=precision_recall_curve(y_test,y_pred)\n",
    "fig, ax=plt.subplots()\n",
    "ax.plot(recall,precision,color='black')\n",
    "ax.set_ylabel('Precision')\n",
    "ax.set_xlabel('Recall')\n",
    "plt.gca().spines['top'].set_visible(False)\n",
    "plt.gca().spines['right'].set_visible(False)\n",
    "plt.grid(True)\n",
    "plt.savefig(\"PR StackA\", dpi=800,bbox_inches = 'tight')\n",
    "plt.show()\n",
    "    \n",
    "\n",
    "cm=confusion_matrix(y_test, y_pred)  \n",
    "plt.figure(figsize=(10,6))\n",
    "sns.heatmap(cm,annot=True,fmt=\"d\")\n",
    "sns.heatmap\n",
    "plt.xlabel('Actual values')\n",
    "plt.ylabel('Predicted values')\n",
    "plt.suptitle('(a)', fontsize=10,fontweight='bold')\n",
    "plt.savefig(\"Confusion Matix StackA\", dpi=800,bbox_inches = 'tight')\n",
    "\n"
   ]
  },
  {
   "cell_type": "markdown",
   "metadata": {},
   "source": [
    "# Stacking 2"
   ]
  },
  {
   "cell_type": "code",
   "execution_count": 28,
   "metadata": {},
   "outputs": [
    {
     "name": "stdout",
     "output_type": "stream",
     "text": [
      "Fitting 3 folds for each of 21600 candidates, totalling 64800 fits\n",
      "Fitting 3 folds for each of 20 candidates, totalling 60 fits\n",
      "Fitting 3 folds for each of 360 candidates, totalling 1080 fits\n",
      "Fitting 3 folds for each of 120 candidates, totalling 360 fits\n",
      "[[112   8]\n",
      " [  6  93]]\n",
      "              precision    recall  f1-score   support\n",
      "\n",
      "         0.0       0.95      0.93      0.94       120\n",
      "         1.0       0.92      0.94      0.93        99\n",
      "\n",
      "    accuracy                           0.94       219\n",
      "   macro avg       0.93      0.94      0.94       219\n",
      "weighted avg       0.94      0.94      0.94       219\n",
      "\n",
      "\n",
      "\n",
      "accuracy 0.94\n",
      "precision 0.92\n",
      "recall 0.94\n",
      "AUC: 0.98\n",
      "Precision-Recall: 0.98\n"
     ]
    },
    {
     "data": {
      "image/png": "[encoded data removed]",
      "text/plain": [
       "<Figure size 432x288 with 1 Axes>"
      ]
     },
     "metadata": {
      "needs_background": "light"
     },
     "output_type": "display_data"
    },
    {
     "data": {
      "image/png": "[encoded data removed]",
      "text/plain": [
       "<Figure size 432x288 with 1 Axes>"
      ]
     },
     "metadata": {
      "needs_background": "light"
     },
     "output_type": "display_data"
    },
    {
     "data": {
      "image/png": "[encoded data removed]",
      "text/plain": [
       "<Figure size 720x432 with 2 Axes>"
      ]
     },
     "metadata": {
      "needs_background": "light"
     },
     "output_type": "display_data"
    }
   ],
   "source": [
    "from mlxtend.classifier import StackingClassifier\n",
    "clf1 = dtClassifier\n",
    "clf2 = rf\n",
    "clf3 = grid_searchAdaBoostClassifier\n",
    "#gradient\n",
    "#clf4 = lgm\n",
    "clf5= xgb\n",
    "clf6= etc\n",
    "\n",
    "\n",
    "# meta-classifier \n",
    "meta_clf = LogisticRegression(random_state=42,max_iter=9000)\n",
    "\n",
    "# Stacking \n",
    "stack2 = StackingClassifier(classifiers=[clf1, clf2, clf3,clf5,clf6],\n",
    "                           use_probas=True,\n",
    "                           average_probas=False,\n",
    "                          meta_classifier=meta_clf)\n",
    "\n",
    "stack2.fit(x_train, y_train)\n",
    "y_pred = stack2.predict(x_test)\n",
    "y_proba = stack2.predict_proba(x_test)[:,1]\n",
    "\n",
    "print(confusion_matrix(y_test, y_pred))\n",
    "print(classification_report(y_test, y_pred))\n",
    "\n",
    "# StackingClassifier summary \n",
    "print('\\n')\n",
    "accuracy = round(accuracy_score(y_test, y_pred),2)\n",
    "print(\"accuracy\",accuracy)\n",
    "precision = round(precision_score(y_test, y_pred),2)\n",
    "print(\"precision\",precision)\n",
    "recall = round(recall_score(y_test, y_pred),2)\n",
    "print(\"recall\",recall)\n",
    "precision_recall = round(average_precision_score(y_test, y_proba),2)\n",
    "auc = round(roc_auc_score(y_test, y_proba),2)\n",
    "print('AUC: {}'.format(round(roc_auc_score(y_test, y_proba),2)))\n",
    "print('Precision-Recall: {}'.format(round(average_precision_score(y_test, y_proba),2)))\n",
    "\n",
    "\n",
    "fpr, tpr, _ = roc_curve(y_test,  y_proba)\n",
    "auc = round(roc_auc_score(y_test, y_proba),2)\n",
    "\n",
    "\n",
    "fig = plt.figure()\n",
    "\n",
    "# Set titles for the figure and the subplot respectively\n",
    "fig.suptitle('(h)', fontsize=14, fontweight='bold')\n",
    "ax = plt.axes()\n",
    "ax.set_facecolor('beige')\n",
    "\n",
    "plt.plot(fpr,tpr,color='xkcd:black',label='Stack-2 AUC: '+str(auc))\n",
    "plt.legend(loc=4)\n",
    "plt.grid(True)\n",
    "plt.plot([0, 1], [0, 1], color='blue', linestyle='-.')\n",
    "plt.gca().spines['top'].set_visible(False)\n",
    "plt.gca().spines['right'].set_visible(False)\n",
    "plt.savefig(\"AUC StackB\", dpi=800,bbox_inches = 'tight')\n",
    "    \n",
    "plt.show()\n",
    "\n",
    "\n",
    "#Precsiion Recall Curve\n",
    "from sklearn.metrics import precision_recall_curve\n",
    "precision,recall,thresholds=precision_recall_curve(y_test,y_pred)\n",
    "fig, ax=plt.subplots()\n",
    "ax.plot(recall,precision,color='black')\n",
    "ax.set_ylabel('Precision')\n",
    "ax.set_xlabel('Recall')\n",
    "plt.gca().spines['top'].set_visible(False)\n",
    "plt.gca().spines['right'].set_visible(False)\n",
    "plt.grid(True)\n",
    "plt.savefig(\"PR StackB\", dpi=800,bbox_inches = 'tight')\n",
    "plt.show()\n",
    "    \n",
    "\n",
    "\n",
    "#Confusion Matrix\n",
    " #print confusion matrix\n",
    "cm=confusion_matrix(y_test, y_pred)  \n",
    "plt.figure(figsize=(10,6))\n",
    "sns.heatmap(cm,annot=True,fmt=\"d\")\n",
    "sns.heatmap\n",
    "plt.xlabel('Actual values')\n",
    "plt.ylabel('Predicted values')\n",
    "plt.suptitle('(b)', fontsize=10,fontweight='bold')\n",
    "plt.savefig(\"Confusion matrix StackB\", dpi=800,bbox_inches = 'tight')\n",
    "        \n"
   ]
  },
  {
   "cell_type": "markdown",
   "metadata": {},
   "source": [
    "# Final Stack"
   ]
  },
  {
   "cell_type": "code",
   "execution_count": 29,
   "metadata": {},
   "outputs": [
    {
     "name": "stdout",
     "output_type": "stream",
     "text": [
      "Fitting 3 folds for each of 14 candidates, totalling 42 fits\n",
      "Fitting 3 folds for each of 99 candidates, totalling 297 fits\n",
      "Fitting 3 folds for each of 21600 candidates, totalling 64800 fits\n",
      "Fitting 3 folds for each of 20 candidates, totalling 60 fits\n",
      "Fitting 3 folds for each of 360 candidates, totalling 1080 fits\n",
      "Fitting 3 folds for each of 120 candidates, totalling 360 fits\n",
      "[[107  13]\n",
      " [  2  97]]\n",
      "              precision    recall  f1-score   support\n",
      "\n",
      "         0.0       0.98      0.89      0.93       120\n",
      "         1.0       0.88      0.98      0.93        99\n",
      "\n",
      "    accuracy                           0.93       219\n",
      "   macro avg       0.93      0.94      0.93       219\n",
      "weighted avg       0.94      0.93      0.93       219\n",
      "\n",
      "\n",
      "\n",
      "accuracy 0.93\n",
      "precision 0.88\n",
      "recall 0.98\n",
      "AUC: 0.99\n",
      "Precision-Recall: 0.99\n"
     ]
    },
    {
     "data": {
      "image/png": "[encoded data removed]",
      "text/plain": [
       "<Figure size 432x288 with 1 Axes>"
      ]
     },
     "metadata": {
      "needs_background": "light"
     },
     "output_type": "display_data"
    },
    {
     "data": {
      "image/png": "[encoded data removed]",
      "text/plain": [
       "<Figure size 432x288 with 1 Axes>"
      ]
     },
     "metadata": {
      "needs_background": "light"
     },
     "output_type": "display_data"
    },
    {
     "data": {
      "image/png": "[encoded data removed]",
      "text/plain": [
       "<Figure size 720x432 with 2 Axes>"
      ]
     },
     "metadata": {
      "needs_background": "light"
     },
     "output_type": "display_data"
    }
   ],
   "source": [
    "from mlxtend.classifier import StackingClassifier\n",
    "clf1 = stack1\n",
    "clf2 = stack2\n",
    "\n",
    "\n",
    "# meta-classifier \n",
    "meta_clf = LogisticRegression(random_state=42,max_iter=9000)\n",
    "\n",
    "# Stacking \n",
    "stack3 = StackingClassifier(classifiers=[clf1, clf2],\n",
    "                           use_probas=True,\n",
    "                           average_probas=False,\n",
    "                          meta_classifier=meta_clf)\n",
    "\n",
    "\n",
    "stack3.fit(x_train, y_train)\n",
    "y_pred = stack3.predict(x_test)\n",
    "y_proba = stack3.predict_proba(x_test)[:,1]\n",
    "\n",
    "print(confusion_matrix(y_test, y_pred))\n",
    "print(classification_report(y_test, y_pred))\n",
    "\n",
    "# StackingClassifier summary \n",
    "print('\\n')\n",
    "accuracy = round(accuracy_score(y_test, y_pred),2)\n",
    "print(\"accuracy\",accuracy)\n",
    "precision = round(precision_score(y_test, y_pred),2)\n",
    "print(\"precision\",precision)\n",
    "recall = round(recall_score(y_test, y_pred),2)\n",
    "print(\"recall\",recall)\n",
    "precision_recall = round(average_precision_score(y_test, y_proba),2)\n",
    "auc = round(roc_auc_score(y_test, y_proba),2)\n",
    "print('AUC: {}'.format(round(roc_auc_score(y_test, y_proba),2)))\n",
    "print('Precision-Recall: {}'.format(round(average_precision_score(y_test, y_proba),2)))\n",
    "\n",
    "fpr, tpr, _ = roc_curve(y_test,  y_proba)\n",
    "auc = round(roc_auc_score(y_test, y_proba),2)\n",
    "\n",
    "\n",
    "fig = plt.figure()\n",
    "\n",
    "# Set titles for the figure and the subplot respectively\n",
    "fig.suptitle('(i)', fontsize=14, fontweight='bold')\n",
    "ax = plt.axes()\n",
    "ax.set_facecolor('beige')\n",
    "\n",
    "plt.plot(fpr,tpr,color='xkcd:black',label='Stack-3  AUC: '+str(auc))\n",
    "plt.legend(loc=4)\n",
    "plt.grid(True)\n",
    "plt.plot([0, 1], [0, 1], color='blue', linestyle='-.')\n",
    "plt.gca().spines['top'].set_visible(False)\n",
    "plt.gca().spines['right'].set_visible(False)\n",
    "plt.savefig(\"StackC Xgboost\", dpi=800,bbox_inches = 'tight')\n",
    "    \n",
    "plt.show()\n",
    "\n",
    "\n",
    "#Precsiion Recall Curve\n",
    "precision,recall,thresholds=precision_recall_curve(y_test,y_pred)\n",
    "fig, ax=plt.subplots()\n",
    "ax.plot(recall,precision,color='black')\n",
    "ax.set_ylabel('Precision')\n",
    "ax.set_xlabel('Recall')\n",
    "plt.gca().spines['top'].set_visible(False)\n",
    "plt.gca().spines['right'].set_visible(False)\n",
    "plt.grid(True)\n",
    "plt.savefig(\"PR Stack-3\", dpi=800,bbox_inches = 'tight')\n",
    "plt.show()\n",
    "    \n",
    "\n",
    "#Confusion Matrix\n",
    " #print confusion matrix\n",
    "cm=confusion_matrix(y_test, y_pred)  \n",
    "plt.figure(figsize=(10,6))\n",
    "sns.heatmap(cm,annot=True,fmt=\"d\")\n",
    "sns.heatmap\n",
    "plt.xlabel('Actual values')\n",
    "plt.ylabel('Predicted values')\n",
    "plt.suptitle('(c)', fontsize=10,fontweight='bold')\n",
    "plt.savefig(\"Confusion Matix Stack3\", dpi=800,bbox_inches = 'tight')\n",
    "    \n"
   ]
  },
  {
   "cell_type": "code",
   "execution_count": 30,
   "metadata": {},
   "outputs": [
    {
     "ename": "SyntaxError",
     "evalue": "invalid syntax (<ipython-input-30-06907a6ba7d5>, line 1)",
     "output_type": "error",
     "traceback": [
      "\u001b[1;36m  File \u001b[1;32m\"<ipython-input-30-06907a6ba7d5>\"\u001b[1;36m, line \u001b[1;32m1\u001b[0m\n\u001b[1;33m    @@@@@@@@@@@@@@@2\u001b[0m\n\u001b[1;37m     ^\u001b[0m\n\u001b[1;31mSyntaxError\u001b[0m\u001b[1;31m:\u001b[0m invalid syntax\n"
     ]
    }
   ],
   "source": [
    "@@@@@@@@@@@@@@@2"
   ]
  },
  {
   "cell_type": "markdown",
   "metadata": {},
   "source": [
    "# Shap (with XGBoost cuz best accuracy)"
   ]
  },
  {
   "cell_type": "code",
   "execution_count": null,
   "metadata": {},
   "outputs": [],
   "source": [
    "import shap\n",
    "explainer = shap.Explainer(xgb.predict, x_train)\n",
    "shap_values = explainer(x_train)\n",
    "fig=plt.figure()\n",
    "fig=shap.plots.beeswarm(shap_values, max_display=25)\n",
    "#plt.savefig(\"BeeSwarm1.png\", dpi=100,bbox_inches = 'tight')"
   ]
  },
  {
   "cell_type": "code",
   "execution_count": null,
   "metadata": {},
   "outputs": [],
   "source": [
    "# Average feature contribution\n",
    "plt.title('Feature Contribution According to Value')\n",
    "\n",
    "fig=shap.summary_plot(shap_values, x_train, plot_type=\"bar\")\n",
    "#plt.savefig(\"BarChartSHAP.png\", dpi=100,bbox_inches = 'tight'"
   ]
  },
  {
   "cell_type": "markdown",
   "metadata": {},
   "source": [
    "# LIME (XGB cuz best accuracy)"
   ]
  },
  {
   "cell_type": "code",
   "execution_count": null,
   "metadata": {},
   "outputs": [],
   "source": [
    "import lime\n",
    "from lime import lime_tabular\n",
    "\n",
    "interpretor = lime_tabular.LimeTabularExplainer(\n",
    "    training_data=np.array(x_train),\n",
    "    \n",
    "    feature_names=x_train.columns,\n",
    "    mode='classification'\n",
    ")"
   ]
  },
  {
   "cell_type": "markdown",
   "metadata": {},
   "source": [
    "PCOS patient prediction"
   ]
  },
  {
   "cell_type": "code",
   "execution_count": null,
   "metadata": {},
   "outputs": [],
   "source": [
    "exp = interpretor.explain_instance(\n",
    "    data_row=x_test.iloc[12], ##new data\n",
    "    predict_fn=xgb.predict_proba\n",
    ")\n",
    "\n",
    "fig=exp.show_in_notebook(show_table=True)"
   ]
  },
  {
   "cell_type": "markdown",
   "metadata": {},
   "source": [
    "Normal patient pediction"
   ]
  },
  {
   "cell_type": "code",
   "execution_count": null,
   "metadata": {},
   "outputs": [],
   "source": [
    "exp = interpretor.explain_instance(\n",
    "    data_row=x_test.iloc[1], ##new data\n",
    "    predict_fn=xgb.predict_proba\n",
    ")\n",
    "\n",
    "fig=exp.show_in_notebook(show_table=True)"
   ]
  },
  {
   "cell_type": "markdown",
   "metadata": {},
   "source": [
    "# ANN Implemtation"
   ]
  },
  {
   "cell_type": "code",
   "execution_count": null,
   "metadata": {},
   "outputs": [],
   "source": [
    "#import some basic libraries\n",
    "import numpy as np\n",
    "import matplotlib.pyplot as plt\n",
    "import pandas as pd\n",
    "#dataset = df"
   ]
  },
  {
   "cell_type": "code",
   "execution_count": null,
   "metadata": {},
   "outputs": [],
   "source": [
    "from imblearn.over_sampling import BorderlineSMOTE\n",
    "df = df.astype('float64')\n",
    "\n",
    "x = df.drop('PCOS (Y/N)', axis=1)\n",
    "y = df['PCOS (Y/N)']\n",
    "\n",
    "oversample = BorderlineSMOTE()\n",
    "#oversample=SMOTETomek(tomek=TomekLinks(sampling_strategy='majority'))\n",
    "x, y = oversample.fit_resample(x, y)\n",
    "\n",
    "SS = StandardScaler()\n",
    "df_scaled = pd.DataFrame(SS.fit_transform(x), columns = x.columns) # as scaling mandotory for KNN model \n",
    "\n",
    "x_train,x_test,y_train,y_test = train_test_split(df_scaled,y, test_size = 0.3, random_state = 1)\n",
    "#x_train1,x_test1,y_train,y_test = train_test_split(,y, test_size = 0.3, random_state = 1)\n"
   ]
  },
  {
   "cell_type": "code",
   "execution_count": null,
   "metadata": {},
   "outputs": [],
   "source": [
    "from tensorflow.keras.models import Sequential\n",
    "from tensorflow.keras.layers import Dense\n",
    "from tensorflow.keras.layers import LeakyReLU, ELU, ReLU\n",
    "from tensorflow.keras.layers import Dropout\n",
    "#PReLu not possible"
   ]
  },
  {
   "cell_type": "code",
   "execution_count": null,
   "metadata": {},
   "outputs": [],
   "source": [
    "#initializing the ANN\n",
    "classifier= Sequential()\n",
    "\n",
    "## adding the input layer\n",
    "#add all the inputs as the shape \n",
    "classifier.add(Dense(units= 19 , activation='relu'))\n",
    "\n",
    "#adding the First hidden layer\n",
    "# maybe some of the original neurons not all\n",
    "classifier.add(Dense(units=12 , activation='relu'))\n",
    "classifier.add(Dropout(0.2))\n",
    "\n",
    "#adding the Second hidden layer\n",
    "# maybe some of the original neurons not all\n",
    "classifier.add(Dense(units=9, activation='relu'))\n",
    "classifier.add(Dropout(0.3))\n",
    "\n",
    "#adding the third hidden layer\n",
    "# maybe some of the original neurons not all\n",
    "classifier.add(Dense(units=7, activation='relu'))\n",
    "classifier.add(Dropout(0.2))\n",
    "\n",
    "#adding the fourth hidden layer\n",
    "# maybe some of the original neurons not all\n",
    "classifier.add(Dense(units=5 , activation='relu'))\n",
    "classifier.add(Dropout(0.3))\n",
    "\n",
    "#adding the fifth hidden layer\n",
    "# maybe some of the original neurons not all\n",
    "classifier.add(Dense(units=3 , activation='relu'))\n",
    "classifier.add(Dropout(0.2))\n",
    "\n",
    "#adding output\n",
    "classifier.add(Dense(1, activation='sigmoid'))"
   ]
  },
  {
   "cell_type": "code",
   "execution_count": null,
   "metadata": {},
   "outputs": [],
   "source": [
    "classifier.compile(optimizer ='adam', loss='binary_crossentropy',metrics=['accuracy'])"
   ]
  },
  {
   "cell_type": "code",
   "execution_count": null,
   "metadata": {},
   "outputs": [],
   "source": [
    "#we should have an early stop if the accuracy is remaining the same\n",
    "#Early stopping\n",
    "import tensorflow as tf\n",
    "\n",
    "early_stopping=tf.keras.callbacks.EarlyStopping(monitor=\"val_loss\",min_delta=0.0001,patience=20, verbose=1,mode=\"auto\",baseline=None,restore_best_weights=False)"
   ]
  },
  {
   "cell_type": "code",
   "execution_count": null,
   "metadata": {},
   "outputs": [],
   "source": [
    "model_history=classifier.fit(x_train,y_train,validation_split=0.33,batch_size=26,epochs=1000,callbacks=early_stopping)"
   ]
  },
  {
   "cell_type": "code",
   "execution_count": null,
   "metadata": {},
   "outputs": [],
   "source": [
    "#making prediction for evaluating the model\n",
    "#prediction for the test data\n",
    "y_pred=classifier.predict(x_test)\n",
    "y_pred=(y_pred>=0.5)"
   ]
  },
  {
   "cell_type": "code",
   "execution_count": null,
   "metadata": {},
   "outputs": [],
   "source": [
    "plt.plot(model_history.history['accuracy'])\n",
    "plt.plot(model_history.history['val_accuracy'])\n",
    "plt.title('model accuracy')\n",
    "plt.ylabel('accuracy')\n",
    "plt.xlabel('epoch')\n",
    "plt.legend(['train','test'],loc='upper left')\n",
    "plt.show()"
   ]
  },
  {
   "cell_type": "code",
   "execution_count": null,
   "metadata": {},
   "outputs": [],
   "source": [
    "plt.plot(model_history.history['loss'])\n",
    "plt.plot(model_history.history['val_loss'])\n",
    "plt.title('model loss')\n",
    "plt.ylabel('loss')\n",
    "plt.xlabel('epoch')\n",
    "plt.legend(['train','test'],loc='upper left')\n",
    "plt.show()"
   ]
  },
  {
   "cell_type": "code",
   "execution_count": null,
   "metadata": {},
   "outputs": [],
   "source": [
    "#calculate the accuracy\n",
    "from sklearn.metrics import accuracy_score\n",
    "score=accuracy_score(y_pred,y_test)\n",
    "score"
   ]
  },
  {
   "cell_type": "markdown",
   "metadata": {},
   "source": [
    "# Explainable AI"
   ]
  },
  {
   "cell_type": "code",
   "execution_count": null,
   "metadata": {},
   "outputs": [],
   "source": [
    "import shap\n",
    "import numpy as np\n",
    "\n",
    "model=tf.keras.Sequential([\n",
    "    tf.keras.layers.Dense(19, activation='relu'),\n",
    "    tf.keras.layers.Dense(12, activation='relu'),\n",
    "    tf.keras.layers.Dense(9, activation='relu'),\n",
    "    tf.keras.layers.Dense(7, activation='relu'),\n",
    "    tf.keras.layers.Dense(5, activation='relu'),\n",
    "    tf.keras.layers.Dense(3, activation='relu'),\n",
    "    tf.keras.layers.Dense(1, activation='sigmoid') ])\n",
    "\n",
    "\n",
    "e = shap.KernelExplainer(model, x_train)\n",
    "shap_values = e.shap_values(x_test)"
   ]
  },
  {
   "cell_type": "code",
   "execution_count": null,
   "metadata": {},
   "outputs": [],
   "source": [
    "shap.initjs()\n",
    "features=[' Age (yrs)','Weight (Kg)','Height(Cm) ','Pulse rate(bpm) ','RR (breaths/min)','Cycle(R/I)','Cycle length(days)','Pregnant(Y/N)','FSH(mIU/mL)','FSH/LH','Waist(inch)','Waist:Hip Ratio','PRG(ng/mL)','Weight gain(Y/N)','Hair loss(Y/N)','Pimples(Y/N)','Follicle No. (L)','Follicle No. (R)','Avg. F size (R) (mm)']\n",
    "\n",
    "# visualize the first prediction's explanation with a force plot\n",
    "shap.force_plot(e.expected_value[0], shap_values[0][0], features = features)"
   ]
  },
  {
   "cell_type": "code",
   "execution_count": null,
   "metadata": {},
   "outputs": [],
   "source": [
    "shap.summary_plot(shap_values[0], x_test, feature_names=features)"
   ]
  },
  {
   "cell_type": "markdown",
   "metadata": {},
   "source": [
    "# 1D CNN"
   ]
  },
  {
   "cell_type": "code",
   "execution_count": null,
   "metadata": {},
   "outputs": [],
   "source": [
    "import numpy as np\n",
    "import pandas as pd\n",
    "import matplotlib.pyplot as plt\n",
    "import seaborn as sns\n",
    "from sklearn.model_selection import train_test_split, GridSearchCV, RandomizedSearchCV\n",
    "from sklearn.tree import DecisionTreeClassifier, DecisionTreeRegressor \n",
    "from sklearn.ensemble import RandomForestClassifier, RandomForestRegressor, BaggingClassifier,AdaBoostClassifier,GradientBoostingClassifier\n",
    "from sklearn.linear_model import LinearRegression,LogisticRegression\n",
    "from sklearn.neighbors import KNeighborsClassifier\n",
    "from sklearn.naive_bayes import GaussianNB\n",
    "from sklearn import metrics\n",
    "from sklearn.preprocessing import StandardScaler\n",
    "from sklearn.feature_selection import RFE\n",
    "from collections import Counter\n",
    "from imblearn.over_sampling import SMOTE\n",
    "from imblearn.combine import SMOTETomek\n",
    "from imblearn.under_sampling import TomekLinks\n",
    "\n",
    "import scipy.stats as stats\n",
    "import warnings\n",
    "warnings.filterwarnings('ignore')\n",
    "%matplotlib inline\n",
    "from scipy import stats as st"
   ]
  },
  {
   "cell_type": "code",
   "execution_count": null,
   "metadata": {},
   "outputs": [],
   "source": [
    "df = df.sample(frac = 1)  #Shuffle the rows"
   ]
  },
  {
   "cell_type": "code",
   "execution_count": null,
   "metadata": {},
   "outputs": [],
   "source": [
    "df.shape"
   ]
  },
  {
   "cell_type": "code",
   "execution_count": null,
   "metadata": {},
   "outputs": [],
   "source": [
    "from imblearn.over_sampling import BorderlineSMOTE\n",
    "df = df.astype('float64')\n",
    "\n",
    "x = df.drop('PCOS (Y/N)', axis=1)\n",
    "y = df['PCOS (Y/N)']\n",
    "\n",
    "\n",
    "plt.figure(figsize = (12,8))\n",
    "plt.pie(y.value_counts(), labels = ['Normal', 'PCOS'], autopct = '%1.1f%%', labeldistance=1.1, textprops = {'fontsize': 20})\n",
    "plt.title('Normal vs PCOS', fontsize=20)\n",
    "plt.savefig(\"Normal vs PCOS results Pie Piechart\", dpi=800,bbox_inches = 'tight')\n",
    "plt.show()\n",
    "\n",
    "#oversample = BorderlineSMOTE()\n",
    "#x, y = oversample.fit_resample(x, y)\n",
    "\n",
    "x_train,x_test,y_train,y_test = train_test_split(x,y, test_size = 0.2, random_state = 1)\n",
    "\n",
    "\n",
    "oversample = BorderlineSMOTE()\n",
    "x_train, y_train = oversample.fit_resample(x_train, y_train)\n",
    "\n",
    "y_train_tensor = np.asarray(y_train).astype('float32').reshape((-1,1))\n",
    "y_test_tensor = np.asarray(y_test).astype('float32').reshape((-1,1))"
   ]
  },
  {
   "cell_type": "code",
   "execution_count": null,
   "metadata": {},
   "outputs": [],
   "source": [
    "#CNN\n",
    "from tensorflow.keras.layers import Flatten, Dense, Conv1D, MaxPool1D, Dropout\n",
    "import tensorflow as tf\n",
    "import keras"
   ]
  },
  {
   "cell_type": "code",
   "execution_count": null,
   "metadata": {},
   "outputs": [],
   "source": [
    "#Reshape train and test data to (n_samples, 187, 1), where each sample is of size (187, 1)\n",
    "x_train = np.array(x_train).reshape(x_train.shape[0], x_train.shape[1], 1)\n",
    "x_test = np.array(x_test).reshape(x_test.shape[0], x_test.shape[1], 1)"
   ]
  },
  {
   "cell_type": "code",
   "execution_count": null,
   "metadata": {},
   "outputs": [],
   "source": [
    "print(\"X Train shape: \", x_train.shape)\n",
    "print(\"X Test shape: \", x_test.shape)"
   ]
  },
  {
   "cell_type": "code",
   "execution_count": null,
   "metadata": {},
   "outputs": [],
   "source": [
    "# Create sequential model \n",
    "cnn_model = tf.keras.models.Sequential()\n",
    "#First CNN layer  with 32 filters, conv window 3, relu activation and same padding\n",
    "cnn_model.add(Conv1D(filters=32, kernel_size=(3,), padding='same', activation=tf.keras.layers.LeakyReLU(alpha=0.001), input_shape = (x_train.shape[1],1)))\n",
    "#Second CNN layer  with 64 filters, conv window 3, relu activation and same padding\n",
    "cnn_model.add(Conv1D(filters=64, kernel_size=(3,), padding='same', activation=tf.keras.layers.LeakyReLU(alpha=0.001)))\n",
    "#Third CNN layer with 128 filters, conv window 3, relu activation and same padding\n",
    "cnn_model.add(Conv1D(filters=128, kernel_size=(3,), padding='same', activation=tf.keras.layers.LeakyReLU(alpha=0.001)))\n",
    "#Fourth CNN layer with Max pooling\n",
    "cnn_model.add(MaxPool1D(pool_size=(3,), strides=2, padding='same'))\n",
    "cnn_model.add(Dropout(0.5))\n",
    "#Flatten the output\n",
    "cnn_model.add(Flatten())\n",
    "#Add a dense layer with 256 neurons\n",
    "cnn_model.add(Dense(units = 256, activation=tf.keras.layers.LeakyReLU(alpha=0.001)))\n",
    "#Add a dense layer with 512 neurons\n",
    "cnn_model.add(Dense(units = 512, activation=tf.keras.layers.LeakyReLU(alpha=0.001)))\n",
    "#Softmax as last layer with five outputs\n",
    "cnn_model.add(Dense(units = 1, activation='sigmoid'))"
   ]
  },
  {
   "cell_type": "code",
   "execution_count": null,
   "metadata": {},
   "outputs": [],
   "source": [
    "cnn_model.compile(optimizer='adam', loss = 'binary_crossentropy', metrics=['accuracy'])"
   ]
  },
  {
   "cell_type": "code",
   "execution_count": null,
   "metadata": {},
   "outputs": [],
   "source": [
    "cnn_model.summary()"
   ]
  },
  {
   "cell_type": "code",
   "execution_count": null,
   "metadata": {},
   "outputs": [],
   "source": [
    "cnn_model_history = cnn_model.fit(x_train, y_train_tensor, epochs=200, batch_size = 10, validation_data = (x_test, y_test_tensor))"
   ]
  },
  {
   "cell_type": "code",
   "execution_count": null,
   "metadata": {},
   "outputs": [],
   "source": [
    "plt.plot(cnn_model_history.history['accuracy'])\n",
    "plt.plot(cnn_model_history.history['val_accuracy'])\n",
    "plt.legend([\"accuracy\",\"val_accuracy\"])\n",
    "plt.title('Accuracy Vs Val_Accuracy')\n",
    "plt.xlabel('Epoch')\n",
    "plt.ylabel('Accuracy')"
   ]
  },
  {
   "cell_type": "code",
   "execution_count": null,
   "metadata": {},
   "outputs": [],
   "source": [
    "plt.plot(cnn_model_history.history['loss'])\n",
    "plt.plot(cnn_model_history.history['val_loss'])\n",
    "plt.legend([\"loss\",\"val_loss\"])\n",
    "plt.title('Loss Vs Val_loss')\n",
    "plt.xlabel('Epoch')\n",
    "plt.ylabel('Loss')"
   ]
  },
  {
   "cell_type": "code",
   "execution_count": null,
   "metadata": {},
   "outputs": [],
   "source": [
    "from sklearn.metrics import roc_auc_score, roc_curve, confusion_matrix, precision_score, recall_score\n",
    "from sklearn.metrics import classification_report, average_precision_score, accuracy_score, f1_score\n",
    "y_pred = cnn_model.predict(x_test)"
   ]
  },
  {
   "cell_type": "code",
   "execution_count": null,
   "metadata": {},
   "outputs": [],
   "source": [
    " from sklearn.metrics import confusion_matrix, accuracy_score, classification_report\n",
    " #extract the predicted probabilities\n",
    " p_pred = cnn_model.predict(x_test)\n",
    " p_pred = p_pred.flatten()\n",
    " print(p_pred.round(2))"
   ]
  },
  {
   "cell_type": "code",
   "execution_count": null,
   "metadata": {},
   "outputs": [],
   "source": [
    " y_pred = np.where(p_pred > 0.5, 1, 0)\n",
    " print(y_pred)"
   ]
  },
  {
   "cell_type": "code",
   "execution_count": null,
   "metadata": {},
   "outputs": [],
   "source": [
    "print(confusion_matrix(y_test, y_pred))"
   ]
  },
  {
   "cell_type": "code",
   "execution_count": null,
   "metadata": {},
   "outputs": [],
   "source": [
    "print(classification_report(y_test, y_pred))"
   ]
  },
  {
   "cell_type": "code",
   "execution_count": null,
   "metadata": {},
   "outputs": [],
   "source": [
    "\n",
    "cm=confusion_matrix(y_test, y_pred)  \n",
    "plt.figure(figsize=(10,6))\n",
    "sns.heatmap(cm,annot=True,fmt=\"d\")\n",
    "sns.heatmap\n",
    "plt.xlabel('Actual values')\n",
    "plt.ylabel('Predicted values')\n",
    "plt.savefig(\"Confusion Matix Random forest\", dpi=800,bbox_inches = 'tight')"
   ]
  },
  {
   "cell_type": "code",
   "execution_count": null,
   "metadata": {},
   "outputs": [],
   "source": [
    "y_pred_proba = cnn_model.predict(x_test)\n",
    "fpr, tpr, thresholds = roc_curve(y_test, y_pred_proba)\n",
    "\n",
    "plt.plot([0,1],[0,1],'k--')\n",
    "plt.plot(fpr,tpr, label='ANN')\n",
    "plt.xlabel('False Positive Rates')\n",
    "plt.ylabel('True Positive Rates')\n",
    "plt.title('ROC Curve for Keras Model')\n",
    "plt.show()"
   ]
  },
  {
   "cell_type": "code",
   "execution_count": null,
   "metadata": {},
   "outputs": [],
   "source": [
    "roc_auc_score(y_test, y_pred_proba)"
   ]
  },
  {
   "cell_type": "code",
   "execution_count": null,
   "metadata": {},
   "outputs": [],
   "source": []
  },
  {
   "cell_type": "code",
   "execution_count": null,
   "metadata": {},
   "outputs": [],
   "source": []
  }
 ],
 "metadata": {
  "kernelspec": {
   "display_name": "Python 3",
   "language": "python",
   "name": "python3"
  },
  "language_info": {
   "codemirror_mode": {
    "name": "ipython",
    "version": 3
   },
   "file_extension": ".py",
   "mimetype": "text/x-python",
   "name": "python",
   "nbconvert_exporter": "python",
   "pygments_lexer": "ipython3",
   "version": "3.8.5"
  }
 },
 "nbformat": 4,
 "nbformat_minor": 4
}
